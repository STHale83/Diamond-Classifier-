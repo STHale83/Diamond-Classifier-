{
 "cells": [
  {
   "cell_type": "code",
   "execution_count": 353,
   "metadata": {},
   "outputs": [],
   "source": [
    "import numpy as np\n",
    "import pandas as pd"
   ]
  },
  {
   "cell_type": "code",
   "execution_count": 354,
   "metadata": {},
   "outputs": [],
   "source": [
    "DF =pd.read_csv('diamonds.csv')"
   ]
  },
  {
   "cell_type": "code",
   "execution_count": 355,
   "metadata": {},
   "outputs": [
    {
     "data": {
      "text/html": [
       "<div>\n",
       "<style scoped>\n",
       "    .dataframe tbody tr th:only-of-type {\n",
       "        vertical-align: middle;\n",
       "    }\n",
       "\n",
       "    .dataframe tbody tr th {\n",
       "        vertical-align: top;\n",
       "    }\n",
       "\n",
       "    .dataframe thead th {\n",
       "        text-align: right;\n",
       "    }\n",
       "</style>\n",
       "<table border=\"1\" class=\"dataframe\">\n",
       "  <thead>\n",
       "    <tr style=\"text-align: right;\">\n",
       "      <th></th>\n",
       "      <th>Unnamed: 0</th>\n",
       "      <th>carat</th>\n",
       "      <th>cut</th>\n",
       "      <th>color</th>\n",
       "      <th>clarity</th>\n",
       "      <th>depth</th>\n",
       "      <th>table</th>\n",
       "      <th>price</th>\n",
       "      <th>x</th>\n",
       "      <th>y</th>\n",
       "      <th>z</th>\n",
       "    </tr>\n",
       "  </thead>\n",
       "  <tbody>\n",
       "    <tr>\n",
       "      <th>0</th>\n",
       "      <td>1</td>\n",
       "      <td>0.23</td>\n",
       "      <td>Ideal</td>\n",
       "      <td>E</td>\n",
       "      <td>SI2</td>\n",
       "      <td>61.5</td>\n",
       "      <td>55.0</td>\n",
       "      <td>326</td>\n",
       "      <td>3.95</td>\n",
       "      <td>3.98</td>\n",
       "      <td>2.43</td>\n",
       "    </tr>\n",
       "    <tr>\n",
       "      <th>1</th>\n",
       "      <td>2</td>\n",
       "      <td>0.21</td>\n",
       "      <td>Premium</td>\n",
       "      <td>E</td>\n",
       "      <td>SI1</td>\n",
       "      <td>59.8</td>\n",
       "      <td>61.0</td>\n",
       "      <td>326</td>\n",
       "      <td>3.89</td>\n",
       "      <td>3.84</td>\n",
       "      <td>2.31</td>\n",
       "    </tr>\n",
       "    <tr>\n",
       "      <th>2</th>\n",
       "      <td>3</td>\n",
       "      <td>0.23</td>\n",
       "      <td>Good</td>\n",
       "      <td>E</td>\n",
       "      <td>VS1</td>\n",
       "      <td>56.9</td>\n",
       "      <td>65.0</td>\n",
       "      <td>327</td>\n",
       "      <td>4.05</td>\n",
       "      <td>4.07</td>\n",
       "      <td>2.31</td>\n",
       "    </tr>\n",
       "    <tr>\n",
       "      <th>3</th>\n",
       "      <td>4</td>\n",
       "      <td>0.29</td>\n",
       "      <td>Premium</td>\n",
       "      <td>I</td>\n",
       "      <td>VS2</td>\n",
       "      <td>62.4</td>\n",
       "      <td>58.0</td>\n",
       "      <td>334</td>\n",
       "      <td>4.20</td>\n",
       "      <td>4.23</td>\n",
       "      <td>2.63</td>\n",
       "    </tr>\n",
       "    <tr>\n",
       "      <th>4</th>\n",
       "      <td>5</td>\n",
       "      <td>0.31</td>\n",
       "      <td>Good</td>\n",
       "      <td>J</td>\n",
       "      <td>SI2</td>\n",
       "      <td>63.3</td>\n",
       "      <td>58.0</td>\n",
       "      <td>335</td>\n",
       "      <td>4.34</td>\n",
       "      <td>4.35</td>\n",
       "      <td>2.75</td>\n",
       "    </tr>\n",
       "    <tr>\n",
       "      <th>5</th>\n",
       "      <td>6</td>\n",
       "      <td>0.24</td>\n",
       "      <td>Very Good</td>\n",
       "      <td>J</td>\n",
       "      <td>VVS2</td>\n",
       "      <td>62.8</td>\n",
       "      <td>57.0</td>\n",
       "      <td>336</td>\n",
       "      <td>3.94</td>\n",
       "      <td>3.96</td>\n",
       "      <td>2.48</td>\n",
       "    </tr>\n",
       "    <tr>\n",
       "      <th>6</th>\n",
       "      <td>7</td>\n",
       "      <td>0.24</td>\n",
       "      <td>Very Good</td>\n",
       "      <td>I</td>\n",
       "      <td>VVS1</td>\n",
       "      <td>62.3</td>\n",
       "      <td>57.0</td>\n",
       "      <td>336</td>\n",
       "      <td>3.95</td>\n",
       "      <td>3.98</td>\n",
       "      <td>2.47</td>\n",
       "    </tr>\n",
       "    <tr>\n",
       "      <th>7</th>\n",
       "      <td>8</td>\n",
       "      <td>0.26</td>\n",
       "      <td>Very Good</td>\n",
       "      <td>H</td>\n",
       "      <td>SI1</td>\n",
       "      <td>61.9</td>\n",
       "      <td>55.0</td>\n",
       "      <td>337</td>\n",
       "      <td>4.07</td>\n",
       "      <td>4.11</td>\n",
       "      <td>2.53</td>\n",
       "    </tr>\n",
       "    <tr>\n",
       "      <th>8</th>\n",
       "      <td>9</td>\n",
       "      <td>0.22</td>\n",
       "      <td>Fair</td>\n",
       "      <td>E</td>\n",
       "      <td>VS2</td>\n",
       "      <td>65.1</td>\n",
       "      <td>61.0</td>\n",
       "      <td>337</td>\n",
       "      <td>3.87</td>\n",
       "      <td>3.78</td>\n",
       "      <td>2.49</td>\n",
       "    </tr>\n",
       "    <tr>\n",
       "      <th>9</th>\n",
       "      <td>10</td>\n",
       "      <td>0.23</td>\n",
       "      <td>Very Good</td>\n",
       "      <td>H</td>\n",
       "      <td>VS1</td>\n",
       "      <td>59.4</td>\n",
       "      <td>61.0</td>\n",
       "      <td>338</td>\n",
       "      <td>4.00</td>\n",
       "      <td>4.05</td>\n",
       "      <td>2.39</td>\n",
       "    </tr>\n",
       "  </tbody>\n",
       "</table>\n",
       "</div>"
      ],
      "text/plain": [
       "   Unnamed: 0  carat        cut color clarity  depth  table  price     x  \\\n",
       "0           1   0.23      Ideal     E     SI2   61.5   55.0    326  3.95   \n",
       "1           2   0.21    Premium     E     SI1   59.8   61.0    326  3.89   \n",
       "2           3   0.23       Good     E     VS1   56.9   65.0    327  4.05   \n",
       "3           4   0.29    Premium     I     VS2   62.4   58.0    334  4.20   \n",
       "4           5   0.31       Good     J     SI2   63.3   58.0    335  4.34   \n",
       "5           6   0.24  Very Good     J    VVS2   62.8   57.0    336  3.94   \n",
       "6           7   0.24  Very Good     I    VVS1   62.3   57.0    336  3.95   \n",
       "7           8   0.26  Very Good     H     SI1   61.9   55.0    337  4.07   \n",
       "8           9   0.22       Fair     E     VS2   65.1   61.0    337  3.87   \n",
       "9          10   0.23  Very Good     H     VS1   59.4   61.0    338  4.00   \n",
       "\n",
       "      y     z  \n",
       "0  3.98  2.43  \n",
       "1  3.84  2.31  \n",
       "2  4.07  2.31  \n",
       "3  4.23  2.63  \n",
       "4  4.35  2.75  \n",
       "5  3.96  2.48  \n",
       "6  3.98  2.47  \n",
       "7  4.11  2.53  \n",
       "8  3.78  2.49  \n",
       "9  4.05  2.39  "
      ]
     },
     "execution_count": 355,
     "metadata": {},
     "output_type": "execute_result"
    }
   ],
   "source": [
    "DF.head(10) #To drop the first column, its sasme as the ID, its not relevant "
   ]
  },
  {
   "cell_type": "code",
   "execution_count": 356,
   "metadata": {},
   "outputs": [],
   "source": [
    "DF = DF.drop('Unnamed: 0', 1)"
   ]
  },
  {
   "cell_type": "code",
   "execution_count": 357,
   "metadata": {},
   "outputs": [
    {
     "data": {
      "text/html": [
       "<div>\n",
       "<style scoped>\n",
       "    .dataframe tbody tr th:only-of-type {\n",
       "        vertical-align: middle;\n",
       "    }\n",
       "\n",
       "    .dataframe tbody tr th {\n",
       "        vertical-align: top;\n",
       "    }\n",
       "\n",
       "    .dataframe thead th {\n",
       "        text-align: right;\n",
       "    }\n",
       "</style>\n",
       "<table border=\"1\" class=\"dataframe\">\n",
       "  <thead>\n",
       "    <tr style=\"text-align: right;\">\n",
       "      <th></th>\n",
       "      <th>carat</th>\n",
       "      <th>cut</th>\n",
       "      <th>color</th>\n",
       "      <th>clarity</th>\n",
       "      <th>depth</th>\n",
       "      <th>table</th>\n",
       "      <th>price</th>\n",
       "      <th>x</th>\n",
       "      <th>y</th>\n",
       "      <th>z</th>\n",
       "    </tr>\n",
       "  </thead>\n",
       "  <tbody>\n",
       "    <tr>\n",
       "      <th>0</th>\n",
       "      <td>0.23</td>\n",
       "      <td>Ideal</td>\n",
       "      <td>E</td>\n",
       "      <td>SI2</td>\n",
       "      <td>61.5</td>\n",
       "      <td>55.0</td>\n",
       "      <td>326</td>\n",
       "      <td>3.95</td>\n",
       "      <td>3.98</td>\n",
       "      <td>2.43</td>\n",
       "    </tr>\n",
       "    <tr>\n",
       "      <th>1</th>\n",
       "      <td>0.21</td>\n",
       "      <td>Premium</td>\n",
       "      <td>E</td>\n",
       "      <td>SI1</td>\n",
       "      <td>59.8</td>\n",
       "      <td>61.0</td>\n",
       "      <td>326</td>\n",
       "      <td>3.89</td>\n",
       "      <td>3.84</td>\n",
       "      <td>2.31</td>\n",
       "    </tr>\n",
       "    <tr>\n",
       "      <th>2</th>\n",
       "      <td>0.23</td>\n",
       "      <td>Good</td>\n",
       "      <td>E</td>\n",
       "      <td>VS1</td>\n",
       "      <td>56.9</td>\n",
       "      <td>65.0</td>\n",
       "      <td>327</td>\n",
       "      <td>4.05</td>\n",
       "      <td>4.07</td>\n",
       "      <td>2.31</td>\n",
       "    </tr>\n",
       "    <tr>\n",
       "      <th>3</th>\n",
       "      <td>0.29</td>\n",
       "      <td>Premium</td>\n",
       "      <td>I</td>\n",
       "      <td>VS2</td>\n",
       "      <td>62.4</td>\n",
       "      <td>58.0</td>\n",
       "      <td>334</td>\n",
       "      <td>4.20</td>\n",
       "      <td>4.23</td>\n",
       "      <td>2.63</td>\n",
       "    </tr>\n",
       "    <tr>\n",
       "      <th>4</th>\n",
       "      <td>0.31</td>\n",
       "      <td>Good</td>\n",
       "      <td>J</td>\n",
       "      <td>SI2</td>\n",
       "      <td>63.3</td>\n",
       "      <td>58.0</td>\n",
       "      <td>335</td>\n",
       "      <td>4.34</td>\n",
       "      <td>4.35</td>\n",
       "      <td>2.75</td>\n",
       "    </tr>\n",
       "    <tr>\n",
       "      <th>5</th>\n",
       "      <td>0.24</td>\n",
       "      <td>Very Good</td>\n",
       "      <td>J</td>\n",
       "      <td>VVS2</td>\n",
       "      <td>62.8</td>\n",
       "      <td>57.0</td>\n",
       "      <td>336</td>\n",
       "      <td>3.94</td>\n",
       "      <td>3.96</td>\n",
       "      <td>2.48</td>\n",
       "    </tr>\n",
       "    <tr>\n",
       "      <th>6</th>\n",
       "      <td>0.24</td>\n",
       "      <td>Very Good</td>\n",
       "      <td>I</td>\n",
       "      <td>VVS1</td>\n",
       "      <td>62.3</td>\n",
       "      <td>57.0</td>\n",
       "      <td>336</td>\n",
       "      <td>3.95</td>\n",
       "      <td>3.98</td>\n",
       "      <td>2.47</td>\n",
       "    </tr>\n",
       "    <tr>\n",
       "      <th>7</th>\n",
       "      <td>0.26</td>\n",
       "      <td>Very Good</td>\n",
       "      <td>H</td>\n",
       "      <td>SI1</td>\n",
       "      <td>61.9</td>\n",
       "      <td>55.0</td>\n",
       "      <td>337</td>\n",
       "      <td>4.07</td>\n",
       "      <td>4.11</td>\n",
       "      <td>2.53</td>\n",
       "    </tr>\n",
       "    <tr>\n",
       "      <th>8</th>\n",
       "      <td>0.22</td>\n",
       "      <td>Fair</td>\n",
       "      <td>E</td>\n",
       "      <td>VS2</td>\n",
       "      <td>65.1</td>\n",
       "      <td>61.0</td>\n",
       "      <td>337</td>\n",
       "      <td>3.87</td>\n",
       "      <td>3.78</td>\n",
       "      <td>2.49</td>\n",
       "    </tr>\n",
       "    <tr>\n",
       "      <th>9</th>\n",
       "      <td>0.23</td>\n",
       "      <td>Very Good</td>\n",
       "      <td>H</td>\n",
       "      <td>VS1</td>\n",
       "      <td>59.4</td>\n",
       "      <td>61.0</td>\n",
       "      <td>338</td>\n",
       "      <td>4.00</td>\n",
       "      <td>4.05</td>\n",
       "      <td>2.39</td>\n",
       "    </tr>\n",
       "  </tbody>\n",
       "</table>\n",
       "</div>"
      ],
      "text/plain": [
       "   carat        cut color clarity  depth  table  price     x     y     z\n",
       "0   0.23      Ideal     E     SI2   61.5   55.0    326  3.95  3.98  2.43\n",
       "1   0.21    Premium     E     SI1   59.8   61.0    326  3.89  3.84  2.31\n",
       "2   0.23       Good     E     VS1   56.9   65.0    327  4.05  4.07  2.31\n",
       "3   0.29    Premium     I     VS2   62.4   58.0    334  4.20  4.23  2.63\n",
       "4   0.31       Good     J     SI2   63.3   58.0    335  4.34  4.35  2.75\n",
       "5   0.24  Very Good     J    VVS2   62.8   57.0    336  3.94  3.96  2.48\n",
       "6   0.24  Very Good     I    VVS1   62.3   57.0    336  3.95  3.98  2.47\n",
       "7   0.26  Very Good     H     SI1   61.9   55.0    337  4.07  4.11  2.53\n",
       "8   0.22       Fair     E     VS2   65.1   61.0    337  3.87  3.78  2.49\n",
       "9   0.23  Very Good     H     VS1   59.4   61.0    338  4.00  4.05  2.39"
      ]
     },
     "execution_count": 357,
     "metadata": {},
     "output_type": "execute_result"
    }
   ],
   "source": [
    "DF.head(10) "
   ]
  },
  {
   "cell_type": "code",
   "execution_count": 358,
   "metadata": {},
   "outputs": [],
   "source": [
    "#To rename column x as length, column y as width, column z as depth\n",
    "#but there is a depth column which is supposed to be Depth Percentage\n",
    "DF.rename(columns = {'x':'length', 'y':'width', \n",
    "                              'depth':'depthPect'}, inplace = True)\n",
    "DF.rename(columns = {'z':'depth'}, inplace = True)"
   ]
  },
  {
   "cell_type": "code",
   "execution_count": 359,
   "metadata": {},
   "outputs": [
    {
     "data": {
      "text/html": [
       "<div>\n",
       "<style scoped>\n",
       "    .dataframe tbody tr th:only-of-type {\n",
       "        vertical-align: middle;\n",
       "    }\n",
       "\n",
       "    .dataframe tbody tr th {\n",
       "        vertical-align: top;\n",
       "    }\n",
       "\n",
       "    .dataframe thead th {\n",
       "        text-align: right;\n",
       "    }\n",
       "</style>\n",
       "<table border=\"1\" class=\"dataframe\">\n",
       "  <thead>\n",
       "    <tr style=\"text-align: right;\">\n",
       "      <th></th>\n",
       "      <th>carat</th>\n",
       "      <th>cut</th>\n",
       "      <th>color</th>\n",
       "      <th>clarity</th>\n",
       "      <th>depthPect</th>\n",
       "      <th>table</th>\n",
       "      <th>price</th>\n",
       "      <th>length</th>\n",
       "      <th>width</th>\n",
       "      <th>depth</th>\n",
       "    </tr>\n",
       "  </thead>\n",
       "  <tbody>\n",
       "    <tr>\n",
       "      <th>0</th>\n",
       "      <td>0.23</td>\n",
       "      <td>Ideal</td>\n",
       "      <td>E</td>\n",
       "      <td>SI2</td>\n",
       "      <td>61.5</td>\n",
       "      <td>55.0</td>\n",
       "      <td>326</td>\n",
       "      <td>3.95</td>\n",
       "      <td>3.98</td>\n",
       "      <td>2.43</td>\n",
       "    </tr>\n",
       "    <tr>\n",
       "      <th>1</th>\n",
       "      <td>0.21</td>\n",
       "      <td>Premium</td>\n",
       "      <td>E</td>\n",
       "      <td>SI1</td>\n",
       "      <td>59.8</td>\n",
       "      <td>61.0</td>\n",
       "      <td>326</td>\n",
       "      <td>3.89</td>\n",
       "      <td>3.84</td>\n",
       "      <td>2.31</td>\n",
       "    </tr>\n",
       "    <tr>\n",
       "      <th>2</th>\n",
       "      <td>0.23</td>\n",
       "      <td>Good</td>\n",
       "      <td>E</td>\n",
       "      <td>VS1</td>\n",
       "      <td>56.9</td>\n",
       "      <td>65.0</td>\n",
       "      <td>327</td>\n",
       "      <td>4.05</td>\n",
       "      <td>4.07</td>\n",
       "      <td>2.31</td>\n",
       "    </tr>\n",
       "    <tr>\n",
       "      <th>3</th>\n",
       "      <td>0.29</td>\n",
       "      <td>Premium</td>\n",
       "      <td>I</td>\n",
       "      <td>VS2</td>\n",
       "      <td>62.4</td>\n",
       "      <td>58.0</td>\n",
       "      <td>334</td>\n",
       "      <td>4.20</td>\n",
       "      <td>4.23</td>\n",
       "      <td>2.63</td>\n",
       "    </tr>\n",
       "    <tr>\n",
       "      <th>4</th>\n",
       "      <td>0.31</td>\n",
       "      <td>Good</td>\n",
       "      <td>J</td>\n",
       "      <td>SI2</td>\n",
       "      <td>63.3</td>\n",
       "      <td>58.0</td>\n",
       "      <td>335</td>\n",
       "      <td>4.34</td>\n",
       "      <td>4.35</td>\n",
       "      <td>2.75</td>\n",
       "    </tr>\n",
       "    <tr>\n",
       "      <th>5</th>\n",
       "      <td>0.24</td>\n",
       "      <td>Very Good</td>\n",
       "      <td>J</td>\n",
       "      <td>VVS2</td>\n",
       "      <td>62.8</td>\n",
       "      <td>57.0</td>\n",
       "      <td>336</td>\n",
       "      <td>3.94</td>\n",
       "      <td>3.96</td>\n",
       "      <td>2.48</td>\n",
       "    </tr>\n",
       "    <tr>\n",
       "      <th>6</th>\n",
       "      <td>0.24</td>\n",
       "      <td>Very Good</td>\n",
       "      <td>I</td>\n",
       "      <td>VVS1</td>\n",
       "      <td>62.3</td>\n",
       "      <td>57.0</td>\n",
       "      <td>336</td>\n",
       "      <td>3.95</td>\n",
       "      <td>3.98</td>\n",
       "      <td>2.47</td>\n",
       "    </tr>\n",
       "    <tr>\n",
       "      <th>7</th>\n",
       "      <td>0.26</td>\n",
       "      <td>Very Good</td>\n",
       "      <td>H</td>\n",
       "      <td>SI1</td>\n",
       "      <td>61.9</td>\n",
       "      <td>55.0</td>\n",
       "      <td>337</td>\n",
       "      <td>4.07</td>\n",
       "      <td>4.11</td>\n",
       "      <td>2.53</td>\n",
       "    </tr>\n",
       "    <tr>\n",
       "      <th>8</th>\n",
       "      <td>0.22</td>\n",
       "      <td>Fair</td>\n",
       "      <td>E</td>\n",
       "      <td>VS2</td>\n",
       "      <td>65.1</td>\n",
       "      <td>61.0</td>\n",
       "      <td>337</td>\n",
       "      <td>3.87</td>\n",
       "      <td>3.78</td>\n",
       "      <td>2.49</td>\n",
       "    </tr>\n",
       "    <tr>\n",
       "      <th>9</th>\n",
       "      <td>0.23</td>\n",
       "      <td>Very Good</td>\n",
       "      <td>H</td>\n",
       "      <td>VS1</td>\n",
       "      <td>59.4</td>\n",
       "      <td>61.0</td>\n",
       "      <td>338</td>\n",
       "      <td>4.00</td>\n",
       "      <td>4.05</td>\n",
       "      <td>2.39</td>\n",
       "    </tr>\n",
       "  </tbody>\n",
       "</table>\n",
       "</div>"
      ],
      "text/plain": [
       "   carat        cut color clarity  depthPect  table  price  length  width  \\\n",
       "0   0.23      Ideal     E     SI2       61.5   55.0    326    3.95   3.98   \n",
       "1   0.21    Premium     E     SI1       59.8   61.0    326    3.89   3.84   \n",
       "2   0.23       Good     E     VS1       56.9   65.0    327    4.05   4.07   \n",
       "3   0.29    Premium     I     VS2       62.4   58.0    334    4.20   4.23   \n",
       "4   0.31       Good     J     SI2       63.3   58.0    335    4.34   4.35   \n",
       "5   0.24  Very Good     J    VVS2       62.8   57.0    336    3.94   3.96   \n",
       "6   0.24  Very Good     I    VVS1       62.3   57.0    336    3.95   3.98   \n",
       "7   0.26  Very Good     H     SI1       61.9   55.0    337    4.07   4.11   \n",
       "8   0.22       Fair     E     VS2       65.1   61.0    337    3.87   3.78   \n",
       "9   0.23  Very Good     H     VS1       59.4   61.0    338    4.00   4.05   \n",
       "\n",
       "   depth  \n",
       "0   2.43  \n",
       "1   2.31  \n",
       "2   2.31  \n",
       "3   2.63  \n",
       "4   2.75  \n",
       "5   2.48  \n",
       "6   2.47  \n",
       "7   2.53  \n",
       "8   2.49  \n",
       "9   2.39  "
      ]
     },
     "execution_count": 359,
     "metadata": {},
     "output_type": "execute_result"
    }
   ],
   "source": [
    "DF.head(10)"
   ]
  },
  {
   "cell_type": "code",
   "execution_count": 365,
   "metadata": {},
   "outputs": [
    {
     "data": {
      "text/html": [
       "<div>\n",
       "<style scoped>\n",
       "    .dataframe tbody tr th:only-of-type {\n",
       "        vertical-align: middle;\n",
       "    }\n",
       "\n",
       "    .dataframe tbody tr th {\n",
       "        vertical-align: top;\n",
       "    }\n",
       "\n",
       "    .dataframe thead th {\n",
       "        text-align: right;\n",
       "    }\n",
       "</style>\n",
       "<table border=\"1\" class=\"dataframe\">\n",
       "  <thead>\n",
       "    <tr style=\"text-align: right;\">\n",
       "      <th></th>\n",
       "      <th>carat</th>\n",
       "      <th>cut</th>\n",
       "      <th>color</th>\n",
       "      <th>clarity</th>\n",
       "      <th>depthPect</th>\n",
       "      <th>table</th>\n",
       "      <th>price</th>\n",
       "      <th>length</th>\n",
       "      <th>width</th>\n",
       "      <th>depth</th>\n",
       "    </tr>\n",
       "  </thead>\n",
       "  <tbody>\n",
       "    <tr>\n",
       "      <th>0</th>\n",
       "      <td>0.23</td>\n",
       "      <td>5</td>\n",
       "      <td>6</td>\n",
       "      <td>2</td>\n",
       "      <td>61.5</td>\n",
       "      <td>55.0</td>\n",
       "      <td>326</td>\n",
       "      <td>3.95</td>\n",
       "      <td>3.98</td>\n",
       "      <td>2.43</td>\n",
       "    </tr>\n",
       "    <tr>\n",
       "      <th>1</th>\n",
       "      <td>0.21</td>\n",
       "      <td>4</td>\n",
       "      <td>6</td>\n",
       "      <td>3</td>\n",
       "      <td>59.8</td>\n",
       "      <td>61.0</td>\n",
       "      <td>326</td>\n",
       "      <td>3.89</td>\n",
       "      <td>3.84</td>\n",
       "      <td>2.31</td>\n",
       "    </tr>\n",
       "    <tr>\n",
       "      <th>2</th>\n",
       "      <td>0.23</td>\n",
       "      <td>2</td>\n",
       "      <td>6</td>\n",
       "      <td>5</td>\n",
       "      <td>56.9</td>\n",
       "      <td>65.0</td>\n",
       "      <td>327</td>\n",
       "      <td>4.05</td>\n",
       "      <td>4.07</td>\n",
       "      <td>2.31</td>\n",
       "    </tr>\n",
       "    <tr>\n",
       "      <th>3</th>\n",
       "      <td>0.29</td>\n",
       "      <td>4</td>\n",
       "      <td>2</td>\n",
       "      <td>4</td>\n",
       "      <td>62.4</td>\n",
       "      <td>58.0</td>\n",
       "      <td>334</td>\n",
       "      <td>4.20</td>\n",
       "      <td>4.23</td>\n",
       "      <td>2.63</td>\n",
       "    </tr>\n",
       "    <tr>\n",
       "      <th>4</th>\n",
       "      <td>0.31</td>\n",
       "      <td>2</td>\n",
       "      <td>1</td>\n",
       "      <td>2</td>\n",
       "      <td>63.3</td>\n",
       "      <td>58.0</td>\n",
       "      <td>335</td>\n",
       "      <td>4.34</td>\n",
       "      <td>4.35</td>\n",
       "      <td>2.75</td>\n",
       "    </tr>\n",
       "    <tr>\n",
       "      <th>5</th>\n",
       "      <td>0.24</td>\n",
       "      <td>3</td>\n",
       "      <td>1</td>\n",
       "      <td>6</td>\n",
       "      <td>62.8</td>\n",
       "      <td>57.0</td>\n",
       "      <td>336</td>\n",
       "      <td>3.94</td>\n",
       "      <td>3.96</td>\n",
       "      <td>2.48</td>\n",
       "    </tr>\n",
       "    <tr>\n",
       "      <th>6</th>\n",
       "      <td>0.24</td>\n",
       "      <td>3</td>\n",
       "      <td>2</td>\n",
       "      <td>7</td>\n",
       "      <td>62.3</td>\n",
       "      <td>57.0</td>\n",
       "      <td>336</td>\n",
       "      <td>3.95</td>\n",
       "      <td>3.98</td>\n",
       "      <td>2.47</td>\n",
       "    </tr>\n",
       "    <tr>\n",
       "      <th>7</th>\n",
       "      <td>0.26</td>\n",
       "      <td>3</td>\n",
       "      <td>3</td>\n",
       "      <td>3</td>\n",
       "      <td>61.9</td>\n",
       "      <td>55.0</td>\n",
       "      <td>337</td>\n",
       "      <td>4.07</td>\n",
       "      <td>4.11</td>\n",
       "      <td>2.53</td>\n",
       "    </tr>\n",
       "    <tr>\n",
       "      <th>8</th>\n",
       "      <td>0.22</td>\n",
       "      <td>1</td>\n",
       "      <td>6</td>\n",
       "      <td>4</td>\n",
       "      <td>65.1</td>\n",
       "      <td>61.0</td>\n",
       "      <td>337</td>\n",
       "      <td>3.87</td>\n",
       "      <td>3.78</td>\n",
       "      <td>2.49</td>\n",
       "    </tr>\n",
       "    <tr>\n",
       "      <th>9</th>\n",
       "      <td>0.23</td>\n",
       "      <td>3</td>\n",
       "      <td>3</td>\n",
       "      <td>5</td>\n",
       "      <td>59.4</td>\n",
       "      <td>61.0</td>\n",
       "      <td>338</td>\n",
       "      <td>4.00</td>\n",
       "      <td>4.05</td>\n",
       "      <td>2.39</td>\n",
       "    </tr>\n",
       "  </tbody>\n",
       "</table>\n",
       "</div>"
      ],
      "text/plain": [
       "   carat  cut  color  clarity  depthPect  table  price  length  width  depth\n",
       "0   0.23    5      6        2       61.5   55.0    326    3.95   3.98   2.43\n",
       "1   0.21    4      6        3       59.8   61.0    326    3.89   3.84   2.31\n",
       "2   0.23    2      6        5       56.9   65.0    327    4.05   4.07   2.31\n",
       "3   0.29    4      2        4       62.4   58.0    334    4.20   4.23   2.63\n",
       "4   0.31    2      1        2       63.3   58.0    335    4.34   4.35   2.75\n",
       "5   0.24    3      1        6       62.8   57.0    336    3.94   3.96   2.48\n",
       "6   0.24    3      2        7       62.3   57.0    336    3.95   3.98   2.47\n",
       "7   0.26    3      3        3       61.9   55.0    337    4.07   4.11   2.53\n",
       "8   0.22    1      6        4       65.1   61.0    337    3.87   3.78   2.49\n",
       "9   0.23    3      3        5       59.4   61.0    338    4.00   4.05   2.39"
      ]
     },
     "execution_count": 365,
     "metadata": {},
     "output_type": "execute_result"
    }
   ],
   "source": [
    "DF.head(10)"
   ]
  },
  {
   "cell_type": "code",
   "execution_count": 362,
   "metadata": {},
   "outputs": [],
   "source": [
    "#To change the categorical variables into ordinal, cut, color and clarity\n",
    "#Cut: quality of the cut (Fair(1), Good(2), Very Good(3), Premium(4), Ideal(5))\n",
    "DF.loc[DF['cut'] =='Ideal','cut'] = 5 # replace Ideal in cut as 5\n",
    "DF.loc[DF['cut'] =='Premium','cut'] = 4 # replace Premium in cut as 4\n",
    "DF.loc[DF['cut'] =='Very Good','cut'] = 3 # replace Very Good in cut as 3\n",
    "DF.loc[DF['cut'] =='Good','cut'] = 2 # replace Good in cut as 2\n",
    "DF.loc[DF['cut'] =='Fair','cut'] = 1 # replace Fair in cut as 1"
   ]
  },
  {
   "cell_type": "code",
   "execution_count": 363,
   "metadata": {},
   "outputs": [],
   "source": [
    "#Color: diamond color, from J (worst) to D (best) D(7), E(6), F(5), G(4), H(3), I(2), J(1) \n",
    "DF.loc[DF['color'] =='D','color'] = 7# replace D in color as 7\n",
    "DF.loc[DF['color'] =='E','color'] = 6# replace E in color as 6\n",
    "DF.loc[DF['color'] =='F','color'] = 5# replace F in color as 5\n",
    "DF.loc[DF['color'] =='G','color'] = 4# replace G in color as 4\n",
    "DF.loc[DF['color'] =='H','color'] = 3# replace H in color as 3\n",
    "DF.loc[DF['color'] =='I','color'] = 2# replace I in color as 2\n",
    "DF.loc[DF['color'] =='J','color'] = 1# replace J in color as 1"
   ]
  },
  {
   "cell_type": "code",
   "execution_count": 364,
   "metadata": {},
   "outputs": [],
   "source": [
    "#Clarity: a measurement of how clear the diamond is (I1 (worst), SI2, SI1, VS2, VS1, VVS2, VVS1,IF (best))\n",
    "#I1 (1), SI2(2), SI1(3), VS2(4), VS1(5), VVS2(6), VVS1(7),IF ((8)\n",
    "DF.loc[DF['clarity'] =='I1','clarity'] = 1# replace I1 in clarity as 1\n",
    "DF.loc[DF['clarity'] =='SI2','clarity'] = 2# replace SI2 in clarity as 2\n",
    "DF.loc[DF['clarity'] =='SI1','clarity'] = 3# replace SI1 in clarity as 3\n",
    "DF.loc[DF['clarity'] =='VS2','clarity'] = 4# replace VS2 in clarity as 4\n",
    "DF.loc[DF['clarity'] =='VS1','clarity'] = 5# replace VS1 in clarity as 5\n",
    "DF.loc[DF['clarity'] =='VVS2','clarity'] = 6# replace VVS2 in clarity as 6\n",
    "DF.loc[DF['clarity'] =='VVS1','clarity'] = 7# replace VVS1in clarity as 7\n",
    "DF.loc[DF['clarity'] =='IF','clarity'] = 8# replace IF in clarity as 8"
   ]
  },
  {
   "cell_type": "code",
   "execution_count": 366,
   "metadata": {},
   "outputs": [
    {
     "data": {
      "text/html": [
       "<div>\n",
       "<style scoped>\n",
       "    .dataframe tbody tr th:only-of-type {\n",
       "        vertical-align: middle;\n",
       "    }\n",
       "\n",
       "    .dataframe tbody tr th {\n",
       "        vertical-align: top;\n",
       "    }\n",
       "\n",
       "    .dataframe thead th {\n",
       "        text-align: right;\n",
       "    }\n",
       "</style>\n",
       "<table border=\"1\" class=\"dataframe\">\n",
       "  <thead>\n",
       "    <tr style=\"text-align: right;\">\n",
       "      <th></th>\n",
       "      <th>carat</th>\n",
       "      <th>cut</th>\n",
       "      <th>color</th>\n",
       "      <th>clarity</th>\n",
       "      <th>depthPect</th>\n",
       "      <th>table</th>\n",
       "      <th>price</th>\n",
       "      <th>length</th>\n",
       "      <th>width</th>\n",
       "      <th>depth</th>\n",
       "    </tr>\n",
       "  </thead>\n",
       "  <tbody>\n",
       "    <tr>\n",
       "      <th>count</th>\n",
       "      <td>53940.000000</td>\n",
       "      <td>53940.000000</td>\n",
       "      <td>53940.000000</td>\n",
       "      <td>53940.000000</td>\n",
       "      <td>53940.000000</td>\n",
       "      <td>53940.000000</td>\n",
       "      <td>53940.000000</td>\n",
       "      <td>53940.000000</td>\n",
       "      <td>53940.000000</td>\n",
       "      <td>53940.000000</td>\n",
       "    </tr>\n",
       "    <tr>\n",
       "      <th>mean</th>\n",
       "      <td>0.797940</td>\n",
       "      <td>3.904097</td>\n",
       "      <td>4.405803</td>\n",
       "      <td>4.051020</td>\n",
       "      <td>61.749405</td>\n",
       "      <td>57.457184</td>\n",
       "      <td>3932.799722</td>\n",
       "      <td>5.731157</td>\n",
       "      <td>5.734526</td>\n",
       "      <td>3.538734</td>\n",
       "    </tr>\n",
       "    <tr>\n",
       "      <th>std</th>\n",
       "      <td>0.474011</td>\n",
       "      <td>1.116600</td>\n",
       "      <td>1.701105</td>\n",
       "      <td>1.647136</td>\n",
       "      <td>1.432621</td>\n",
       "      <td>2.234491</td>\n",
       "      <td>3989.439738</td>\n",
       "      <td>1.121761</td>\n",
       "      <td>1.142135</td>\n",
       "      <td>0.705699</td>\n",
       "    </tr>\n",
       "    <tr>\n",
       "      <th>min</th>\n",
       "      <td>0.200000</td>\n",
       "      <td>1.000000</td>\n",
       "      <td>1.000000</td>\n",
       "      <td>1.000000</td>\n",
       "      <td>43.000000</td>\n",
       "      <td>43.000000</td>\n",
       "      <td>326.000000</td>\n",
       "      <td>0.000000</td>\n",
       "      <td>0.000000</td>\n",
       "      <td>0.000000</td>\n",
       "    </tr>\n",
       "    <tr>\n",
       "      <th>25%</th>\n",
       "      <td>0.400000</td>\n",
       "      <td>3.000000</td>\n",
       "      <td>3.000000</td>\n",
       "      <td>3.000000</td>\n",
       "      <td>61.000000</td>\n",
       "      <td>56.000000</td>\n",
       "      <td>950.000000</td>\n",
       "      <td>4.710000</td>\n",
       "      <td>4.720000</td>\n",
       "      <td>2.910000</td>\n",
       "    </tr>\n",
       "    <tr>\n",
       "      <th>50%</th>\n",
       "      <td>0.700000</td>\n",
       "      <td>4.000000</td>\n",
       "      <td>4.000000</td>\n",
       "      <td>4.000000</td>\n",
       "      <td>61.800000</td>\n",
       "      <td>57.000000</td>\n",
       "      <td>2401.000000</td>\n",
       "      <td>5.700000</td>\n",
       "      <td>5.710000</td>\n",
       "      <td>3.530000</td>\n",
       "    </tr>\n",
       "    <tr>\n",
       "      <th>75%</th>\n",
       "      <td>1.040000</td>\n",
       "      <td>5.000000</td>\n",
       "      <td>6.000000</td>\n",
       "      <td>5.000000</td>\n",
       "      <td>62.500000</td>\n",
       "      <td>59.000000</td>\n",
       "      <td>5324.250000</td>\n",
       "      <td>6.540000</td>\n",
       "      <td>6.540000</td>\n",
       "      <td>4.040000</td>\n",
       "    </tr>\n",
       "    <tr>\n",
       "      <th>max</th>\n",
       "      <td>5.010000</td>\n",
       "      <td>5.000000</td>\n",
       "      <td>7.000000</td>\n",
       "      <td>8.000000</td>\n",
       "      <td>79.000000</td>\n",
       "      <td>95.000000</td>\n",
       "      <td>18823.000000</td>\n",
       "      <td>10.740000</td>\n",
       "      <td>58.900000</td>\n",
       "      <td>31.800000</td>\n",
       "    </tr>\n",
       "  </tbody>\n",
       "</table>\n",
       "</div>"
      ],
      "text/plain": [
       "              carat           cut         color       clarity     depthPect  \\\n",
       "count  53940.000000  53940.000000  53940.000000  53940.000000  53940.000000   \n",
       "mean       0.797940      3.904097      4.405803      4.051020     61.749405   \n",
       "std        0.474011      1.116600      1.701105      1.647136      1.432621   \n",
       "min        0.200000      1.000000      1.000000      1.000000     43.000000   \n",
       "25%        0.400000      3.000000      3.000000      3.000000     61.000000   \n",
       "50%        0.700000      4.000000      4.000000      4.000000     61.800000   \n",
       "75%        1.040000      5.000000      6.000000      5.000000     62.500000   \n",
       "max        5.010000      5.000000      7.000000      8.000000     79.000000   \n",
       "\n",
       "              table         price        length         width         depth  \n",
       "count  53940.000000  53940.000000  53940.000000  53940.000000  53940.000000  \n",
       "mean      57.457184   3932.799722      5.731157      5.734526      3.538734  \n",
       "std        2.234491   3989.439738      1.121761      1.142135      0.705699  \n",
       "min       43.000000    326.000000      0.000000      0.000000      0.000000  \n",
       "25%       56.000000    950.000000      4.710000      4.720000      2.910000  \n",
       "50%       57.000000   2401.000000      5.700000      5.710000      3.530000  \n",
       "75%       59.000000   5324.250000      6.540000      6.540000      4.040000  \n",
       "max       95.000000  18823.000000     10.740000     58.900000     31.800000  "
      ]
     },
     "execution_count": 366,
     "metadata": {},
     "output_type": "execute_result"
    }
   ],
   "source": [
    "DF.describe(include = \"all\")\n",
    "#it looks like there is no missing values in the dataset\n",
    "#price and PricePerCarat are way larger over other variables, normalization is needed in this case\n",
    "#However, min of length, width and depth is 0, which is not supposed to be"
   ]
  },
  {
   "cell_type": "code",
   "execution_count": 367,
   "metadata": {},
   "outputs": [
    {
     "name": "stdout",
     "output_type": "stream",
     "text": [
      "8\n",
      "7\n",
      "20\n"
     ]
    }
   ],
   "source": [
    "#dig more into the cases where 0 length, width and depth\n",
    "print(len(DF[DF['length'] == 0]))\n",
    "print(len(DF[DF['width'] == 0]))\n",
    "print(len(DF[DF['depth'] == 0]))"
   ]
  },
  {
   "cell_type": "code",
   "execution_count": 368,
   "metadata": {
    "scrolled": true
   },
   "outputs": [],
   "source": [
    "#Because the dimension of the size need to be precise here, cannot replace it with the mean of the variables\n",
    "#also we have a large dataset, and there are only a few cases of where length, width and depth are 0\n",
    "#I decide to just remove those records\n",
    "DF = DF.drop(DF[DF['length'] == 0].index, axis = 0)"
   ]
  },
  {
   "cell_type": "code",
   "execution_count": 369,
   "metadata": {},
   "outputs": [
    {
     "data": {
      "text/html": [
       "<div>\n",
       "<style scoped>\n",
       "    .dataframe tbody tr th:only-of-type {\n",
       "        vertical-align: middle;\n",
       "    }\n",
       "\n",
       "    .dataframe tbody tr th {\n",
       "        vertical-align: top;\n",
       "    }\n",
       "\n",
       "    .dataframe thead th {\n",
       "        text-align: right;\n",
       "    }\n",
       "</style>\n",
       "<table border=\"1\" class=\"dataframe\">\n",
       "  <thead>\n",
       "    <tr style=\"text-align: right;\">\n",
       "      <th></th>\n",
       "      <th>carat</th>\n",
       "      <th>cut</th>\n",
       "      <th>color</th>\n",
       "      <th>clarity</th>\n",
       "      <th>depthPect</th>\n",
       "      <th>table</th>\n",
       "      <th>price</th>\n",
       "      <th>length</th>\n",
       "      <th>width</th>\n",
       "      <th>depth</th>\n",
       "    </tr>\n",
       "  </thead>\n",
       "  <tbody>\n",
       "    <tr>\n",
       "      <th>count</th>\n",
       "      <td>53932.000000</td>\n",
       "      <td>53932.000000</td>\n",
       "      <td>53932.000000</td>\n",
       "      <td>53932.000000</td>\n",
       "      <td>53932.000000</td>\n",
       "      <td>53932.000000</td>\n",
       "      <td>53932.000000</td>\n",
       "      <td>53932.000000</td>\n",
       "      <td>53932.000000</td>\n",
       "      <td>53932.000000</td>\n",
       "    </tr>\n",
       "    <tr>\n",
       "      <th>mean</th>\n",
       "      <td>0.797879</td>\n",
       "      <td>3.904194</td>\n",
       "      <td>4.405789</td>\n",
       "      <td>4.051101</td>\n",
       "      <td>61.749336</td>\n",
       "      <td>57.457029</td>\n",
       "      <td>3932.136079</td>\n",
       "      <td>5.732007</td>\n",
       "      <td>5.735254</td>\n",
       "      <td>3.539259</td>\n",
       "    </tr>\n",
       "    <tr>\n",
       "      <th>std</th>\n",
       "      <td>0.473986</td>\n",
       "      <td>1.116526</td>\n",
       "      <td>1.701165</td>\n",
       "      <td>1.647109</td>\n",
       "      <td>1.432514</td>\n",
       "      <td>2.234064</td>\n",
       "      <td>3988.734835</td>\n",
       "      <td>1.119670</td>\n",
       "      <td>1.140343</td>\n",
       "      <td>0.704434</td>\n",
       "    </tr>\n",
       "    <tr>\n",
       "      <th>min</th>\n",
       "      <td>0.200000</td>\n",
       "      <td>1.000000</td>\n",
       "      <td>1.000000</td>\n",
       "      <td>1.000000</td>\n",
       "      <td>43.000000</td>\n",
       "      <td>43.000000</td>\n",
       "      <td>326.000000</td>\n",
       "      <td>3.730000</td>\n",
       "      <td>3.680000</td>\n",
       "      <td>0.000000</td>\n",
       "    </tr>\n",
       "    <tr>\n",
       "      <th>25%</th>\n",
       "      <td>0.400000</td>\n",
       "      <td>3.000000</td>\n",
       "      <td>3.000000</td>\n",
       "      <td>3.000000</td>\n",
       "      <td>61.000000</td>\n",
       "      <td>56.000000</td>\n",
       "      <td>949.750000</td>\n",
       "      <td>4.710000</td>\n",
       "      <td>4.720000</td>\n",
       "      <td>2.910000</td>\n",
       "    </tr>\n",
       "    <tr>\n",
       "      <th>50%</th>\n",
       "      <td>0.700000</td>\n",
       "      <td>4.000000</td>\n",
       "      <td>4.000000</td>\n",
       "      <td>4.000000</td>\n",
       "      <td>61.800000</td>\n",
       "      <td>57.000000</td>\n",
       "      <td>2401.000000</td>\n",
       "      <td>5.700000</td>\n",
       "      <td>5.710000</td>\n",
       "      <td>3.530000</td>\n",
       "    </tr>\n",
       "    <tr>\n",
       "      <th>75%</th>\n",
       "      <td>1.040000</td>\n",
       "      <td>5.000000</td>\n",
       "      <td>6.000000</td>\n",
       "      <td>5.000000</td>\n",
       "      <td>62.500000</td>\n",
       "      <td>59.000000</td>\n",
       "      <td>5324.000000</td>\n",
       "      <td>6.540000</td>\n",
       "      <td>6.540000</td>\n",
       "      <td>4.040000</td>\n",
       "    </tr>\n",
       "    <tr>\n",
       "      <th>max</th>\n",
       "      <td>5.010000</td>\n",
       "      <td>5.000000</td>\n",
       "      <td>7.000000</td>\n",
       "      <td>8.000000</td>\n",
       "      <td>79.000000</td>\n",
       "      <td>95.000000</td>\n",
       "      <td>18823.000000</td>\n",
       "      <td>10.740000</td>\n",
       "      <td>58.900000</td>\n",
       "      <td>31.800000</td>\n",
       "    </tr>\n",
       "  </tbody>\n",
       "</table>\n",
       "</div>"
      ],
      "text/plain": [
       "              carat           cut         color       clarity     depthPect  \\\n",
       "count  53932.000000  53932.000000  53932.000000  53932.000000  53932.000000   \n",
       "mean       0.797879      3.904194      4.405789      4.051101     61.749336   \n",
       "std        0.473986      1.116526      1.701165      1.647109      1.432514   \n",
       "min        0.200000      1.000000      1.000000      1.000000     43.000000   \n",
       "25%        0.400000      3.000000      3.000000      3.000000     61.000000   \n",
       "50%        0.700000      4.000000      4.000000      4.000000     61.800000   \n",
       "75%        1.040000      5.000000      6.000000      5.000000     62.500000   \n",
       "max        5.010000      5.000000      7.000000      8.000000     79.000000   \n",
       "\n",
       "              table         price        length         width         depth  \n",
       "count  53932.000000  53932.000000  53932.000000  53932.000000  53932.000000  \n",
       "mean      57.457029   3932.136079      5.732007      5.735254      3.539259  \n",
       "std        2.234064   3988.734835      1.119670      1.140343      0.704434  \n",
       "min       43.000000    326.000000      3.730000      3.680000      0.000000  \n",
       "25%       56.000000    949.750000      4.710000      4.720000      2.910000  \n",
       "50%       57.000000   2401.000000      5.700000      5.710000      3.530000  \n",
       "75%       59.000000   5324.000000      6.540000      6.540000      4.040000  \n",
       "max       95.000000  18823.000000     10.740000     58.900000     31.800000  "
      ]
     },
     "execution_count": 369,
     "metadata": {},
     "output_type": "execute_result"
    }
   ],
   "source": [
    "DF.describe(include = \"all\") #now we still have some cases where depth is 0"
   ]
  },
  {
   "cell_type": "code",
   "execution_count": 370,
   "metadata": {},
   "outputs": [],
   "source": [
    "DF = DF.drop(DF[DF['depth'] == 0].index, axis = 0)"
   ]
  },
  {
   "cell_type": "code",
   "execution_count": 371,
   "metadata": {},
   "outputs": [
    {
     "data": {
      "text/html": [
       "<div>\n",
       "<style scoped>\n",
       "    .dataframe tbody tr th:only-of-type {\n",
       "        vertical-align: middle;\n",
       "    }\n",
       "\n",
       "    .dataframe tbody tr th {\n",
       "        vertical-align: top;\n",
       "    }\n",
       "\n",
       "    .dataframe thead th {\n",
       "        text-align: right;\n",
       "    }\n",
       "</style>\n",
       "<table border=\"1\" class=\"dataframe\">\n",
       "  <thead>\n",
       "    <tr style=\"text-align: right;\">\n",
       "      <th></th>\n",
       "      <th>carat</th>\n",
       "      <th>cut</th>\n",
       "      <th>color</th>\n",
       "      <th>clarity</th>\n",
       "      <th>depthPect</th>\n",
       "      <th>table</th>\n",
       "      <th>price</th>\n",
       "      <th>length</th>\n",
       "      <th>width</th>\n",
       "      <th>depth</th>\n",
       "    </tr>\n",
       "  </thead>\n",
       "  <tbody>\n",
       "    <tr>\n",
       "      <th>count</th>\n",
       "      <td>53920.000000</td>\n",
       "      <td>53920.000000</td>\n",
       "      <td>53920.000000</td>\n",
       "      <td>53920.000000</td>\n",
       "      <td>53920.000000</td>\n",
       "      <td>53920.000000</td>\n",
       "      <td>53920.000000</td>\n",
       "      <td>53920.000000</td>\n",
       "      <td>53920.000000</td>\n",
       "      <td>53920.000000</td>\n",
       "    </tr>\n",
       "    <tr>\n",
       "      <th>mean</th>\n",
       "      <td>0.797698</td>\n",
       "      <td>3.904228</td>\n",
       "      <td>4.405972</td>\n",
       "      <td>4.051502</td>\n",
       "      <td>61.749514</td>\n",
       "      <td>57.456834</td>\n",
       "      <td>3930.993231</td>\n",
       "      <td>5.731627</td>\n",
       "      <td>5.734887</td>\n",
       "      <td>3.540046</td>\n",
       "    </tr>\n",
       "    <tr>\n",
       "      <th>std</th>\n",
       "      <td>0.473795</td>\n",
       "      <td>1.116579</td>\n",
       "      <td>1.701272</td>\n",
       "      <td>1.647005</td>\n",
       "      <td>1.432331</td>\n",
       "      <td>2.234064</td>\n",
       "      <td>3987.280446</td>\n",
       "      <td>1.119423</td>\n",
       "      <td>1.140126</td>\n",
       "      <td>0.702530</td>\n",
       "    </tr>\n",
       "    <tr>\n",
       "      <th>min</th>\n",
       "      <td>0.200000</td>\n",
       "      <td>1.000000</td>\n",
       "      <td>1.000000</td>\n",
       "      <td>1.000000</td>\n",
       "      <td>43.000000</td>\n",
       "      <td>43.000000</td>\n",
       "      <td>326.000000</td>\n",
       "      <td>3.730000</td>\n",
       "      <td>3.680000</td>\n",
       "      <td>1.070000</td>\n",
       "    </tr>\n",
       "    <tr>\n",
       "      <th>25%</th>\n",
       "      <td>0.400000</td>\n",
       "      <td>3.000000</td>\n",
       "      <td>3.000000</td>\n",
       "      <td>3.000000</td>\n",
       "      <td>61.000000</td>\n",
       "      <td>56.000000</td>\n",
       "      <td>949.000000</td>\n",
       "      <td>4.710000</td>\n",
       "      <td>4.720000</td>\n",
       "      <td>2.910000</td>\n",
       "    </tr>\n",
       "    <tr>\n",
       "      <th>50%</th>\n",
       "      <td>0.700000</td>\n",
       "      <td>4.000000</td>\n",
       "      <td>4.000000</td>\n",
       "      <td>4.000000</td>\n",
       "      <td>61.800000</td>\n",
       "      <td>57.000000</td>\n",
       "      <td>2401.000000</td>\n",
       "      <td>5.700000</td>\n",
       "      <td>5.710000</td>\n",
       "      <td>3.530000</td>\n",
       "    </tr>\n",
       "    <tr>\n",
       "      <th>75%</th>\n",
       "      <td>1.040000</td>\n",
       "      <td>5.000000</td>\n",
       "      <td>6.000000</td>\n",
       "      <td>5.000000</td>\n",
       "      <td>62.500000</td>\n",
       "      <td>59.000000</td>\n",
       "      <td>5323.250000</td>\n",
       "      <td>6.540000</td>\n",
       "      <td>6.540000</td>\n",
       "      <td>4.040000</td>\n",
       "    </tr>\n",
       "    <tr>\n",
       "      <th>max</th>\n",
       "      <td>5.010000</td>\n",
       "      <td>5.000000</td>\n",
       "      <td>7.000000</td>\n",
       "      <td>8.000000</td>\n",
       "      <td>79.000000</td>\n",
       "      <td>95.000000</td>\n",
       "      <td>18823.000000</td>\n",
       "      <td>10.740000</td>\n",
       "      <td>58.900000</td>\n",
       "      <td>31.800000</td>\n",
       "    </tr>\n",
       "  </tbody>\n",
       "</table>\n",
       "</div>"
      ],
      "text/plain": [
       "              carat           cut         color       clarity     depthPect  \\\n",
       "count  53920.000000  53920.000000  53920.000000  53920.000000  53920.000000   \n",
       "mean       0.797698      3.904228      4.405972      4.051502     61.749514   \n",
       "std        0.473795      1.116579      1.701272      1.647005      1.432331   \n",
       "min        0.200000      1.000000      1.000000      1.000000     43.000000   \n",
       "25%        0.400000      3.000000      3.000000      3.000000     61.000000   \n",
       "50%        0.700000      4.000000      4.000000      4.000000     61.800000   \n",
       "75%        1.040000      5.000000      6.000000      5.000000     62.500000   \n",
       "max        5.010000      5.000000      7.000000      8.000000     79.000000   \n",
       "\n",
       "              table         price        length         width         depth  \n",
       "count  53920.000000  53920.000000  53920.000000  53920.000000  53920.000000  \n",
       "mean      57.456834   3930.993231      5.731627      5.734887      3.540046  \n",
       "std        2.234064   3987.280446      1.119423      1.140126      0.702530  \n",
       "min       43.000000    326.000000      3.730000      3.680000      1.070000  \n",
       "25%       56.000000    949.000000      4.710000      4.720000      2.910000  \n",
       "50%       57.000000   2401.000000      5.700000      5.710000      3.530000  \n",
       "75%       59.000000   5323.250000      6.540000      6.540000      4.040000  \n",
       "max       95.000000  18823.000000     10.740000     58.900000     31.800000  "
      ]
     },
     "execution_count": 371,
     "metadata": {},
     "output_type": "execute_result"
    }
   ],
   "source": [
    "DF.describe(include = \"all\") "
   ]
  },
  {
   "cell_type": "code",
   "execution_count": 372,
   "metadata": {},
   "outputs": [],
   "source": [
    "import pylab as plt"
   ]
  },
  {
   "cell_type": "code",
   "execution_count": 373,
   "metadata": {},
   "outputs": [
    {
     "data": {
      "text/html": [
       "<div>\n",
       "<style scoped>\n",
       "    .dataframe tbody tr th:only-of-type {\n",
       "        vertical-align: middle;\n",
       "    }\n",
       "\n",
       "    .dataframe tbody tr th {\n",
       "        vertical-align: top;\n",
       "    }\n",
       "\n",
       "    .dataframe thead th {\n",
       "        text-align: right;\n",
       "    }\n",
       "</style>\n",
       "<table border=\"1\" class=\"dataframe\">\n",
       "  <thead>\n",
       "    <tr style=\"text-align: right;\">\n",
       "      <th></th>\n",
       "      <th>carat</th>\n",
       "      <th>cut</th>\n",
       "      <th>color</th>\n",
       "      <th>clarity</th>\n",
       "      <th>depthPect</th>\n",
       "      <th>table</th>\n",
       "      <th>price</th>\n",
       "      <th>length</th>\n",
       "      <th>width</th>\n",
       "      <th>depth</th>\n",
       "    </tr>\n",
       "  </thead>\n",
       "  <tbody>\n",
       "    <tr>\n",
       "      <th>carat</th>\n",
       "      <td>1.000000</td>\n",
       "      <td>-0.134953</td>\n",
       "      <td>-0.291360</td>\n",
       "      <td>-0.352757</td>\n",
       "      <td>0.028259</td>\n",
       "      <td>0.181646</td>\n",
       "      <td>0.921592</td>\n",
       "      <td>0.977779</td>\n",
       "      <td>0.953991</td>\n",
       "      <td>0.961048</td>\n",
       "    </tr>\n",
       "    <tr>\n",
       "      <th>cut</th>\n",
       "      <td>-0.134953</td>\n",
       "      <td>1.000000</td>\n",
       "      <td>0.020517</td>\n",
       "      <td>0.189153</td>\n",
       "      <td>-0.218073</td>\n",
       "      <td>-0.433306</td>\n",
       "      <td>-0.053491</td>\n",
       "      <td>-0.126232</td>\n",
       "      <td>-0.122181</td>\n",
       "      <td>-0.150647</td>\n",
       "    </tr>\n",
       "    <tr>\n",
       "      <th>color</th>\n",
       "      <td>-0.291360</td>\n",
       "      <td>0.020517</td>\n",
       "      <td>1.000000</td>\n",
       "      <td>-0.025783</td>\n",
       "      <td>-0.047373</td>\n",
       "      <td>-0.026481</td>\n",
       "      <td>-0.172431</td>\n",
       "      <td>-0.270671</td>\n",
       "      <td>-0.263915</td>\n",
       "      <td>-0.270011</td>\n",
       "    </tr>\n",
       "    <tr>\n",
       "      <th>clarity</th>\n",
       "      <td>-0.352757</td>\n",
       "      <td>0.189153</td>\n",
       "      <td>-0.025783</td>\n",
       "      <td>1.000000</td>\n",
       "      <td>-0.067457</td>\n",
       "      <td>-0.160256</td>\n",
       "      <td>-0.146789</td>\n",
       "      <td>-0.372865</td>\n",
       "      <td>-0.359015</td>\n",
       "      <td>-0.370250</td>\n",
       "    </tr>\n",
       "    <tr>\n",
       "      <th>depthPect</th>\n",
       "      <td>0.028259</td>\n",
       "      <td>-0.218073</td>\n",
       "      <td>-0.047373</td>\n",
       "      <td>-0.067457</td>\n",
       "      <td>1.000000</td>\n",
       "      <td>-0.295733</td>\n",
       "      <td>-0.010729</td>\n",
       "      <td>-0.025017</td>\n",
       "      <td>-0.029069</td>\n",
       "      <td>0.095023</td>\n",
       "    </tr>\n",
       "    <tr>\n",
       "      <th>table</th>\n",
       "      <td>0.181646</td>\n",
       "      <td>-0.433306</td>\n",
       "      <td>-0.026481</td>\n",
       "      <td>-0.160256</td>\n",
       "      <td>-0.295733</td>\n",
       "      <td>1.000000</td>\n",
       "      <td>0.127245</td>\n",
       "      <td>0.196097</td>\n",
       "      <td>0.184493</td>\n",
       "      <td>0.152483</td>\n",
       "    </tr>\n",
       "    <tr>\n",
       "      <th>price</th>\n",
       "      <td>0.921592</td>\n",
       "      <td>-0.053491</td>\n",
       "      <td>-0.172431</td>\n",
       "      <td>-0.146789</td>\n",
       "      <td>-0.010729</td>\n",
       "      <td>0.127245</td>\n",
       "      <td>1.000000</td>\n",
       "      <td>0.887231</td>\n",
       "      <td>0.867864</td>\n",
       "      <td>0.868206</td>\n",
       "    </tr>\n",
       "    <tr>\n",
       "      <th>length</th>\n",
       "      <td>0.977779</td>\n",
       "      <td>-0.126232</td>\n",
       "      <td>-0.270671</td>\n",
       "      <td>-0.372865</td>\n",
       "      <td>-0.025017</td>\n",
       "      <td>0.196097</td>\n",
       "      <td>0.887231</td>\n",
       "      <td>1.000000</td>\n",
       "      <td>0.974918</td>\n",
       "      <td>0.975435</td>\n",
       "    </tr>\n",
       "    <tr>\n",
       "      <th>width</th>\n",
       "      <td>0.953991</td>\n",
       "      <td>-0.122181</td>\n",
       "      <td>-0.263915</td>\n",
       "      <td>-0.359015</td>\n",
       "      <td>-0.029069</td>\n",
       "      <td>0.184493</td>\n",
       "      <td>0.867864</td>\n",
       "      <td>0.974918</td>\n",
       "      <td>1.000000</td>\n",
       "      <td>0.956744</td>\n",
       "    </tr>\n",
       "    <tr>\n",
       "      <th>depth</th>\n",
       "      <td>0.961048</td>\n",
       "      <td>-0.150647</td>\n",
       "      <td>-0.270011</td>\n",
       "      <td>-0.370250</td>\n",
       "      <td>0.095023</td>\n",
       "      <td>0.152483</td>\n",
       "      <td>0.868206</td>\n",
       "      <td>0.975435</td>\n",
       "      <td>0.956744</td>\n",
       "      <td>1.000000</td>\n",
       "    </tr>\n",
       "  </tbody>\n",
       "</table>\n",
       "</div>"
      ],
      "text/plain": [
       "              carat       cut     color   clarity  depthPect     table  \\\n",
       "carat      1.000000 -0.134953 -0.291360 -0.352757   0.028259  0.181646   \n",
       "cut       -0.134953  1.000000  0.020517  0.189153  -0.218073 -0.433306   \n",
       "color     -0.291360  0.020517  1.000000 -0.025783  -0.047373 -0.026481   \n",
       "clarity   -0.352757  0.189153 -0.025783  1.000000  -0.067457 -0.160256   \n",
       "depthPect  0.028259 -0.218073 -0.047373 -0.067457   1.000000 -0.295733   \n",
       "table      0.181646 -0.433306 -0.026481 -0.160256  -0.295733  1.000000   \n",
       "price      0.921592 -0.053491 -0.172431 -0.146789  -0.010729  0.127245   \n",
       "length     0.977779 -0.126232 -0.270671 -0.372865  -0.025017  0.196097   \n",
       "width      0.953991 -0.122181 -0.263915 -0.359015  -0.029069  0.184493   \n",
       "depth      0.961048 -0.150647 -0.270011 -0.370250   0.095023  0.152483   \n",
       "\n",
       "              price    length     width     depth  \n",
       "carat      0.921592  0.977779  0.953991  0.961048  \n",
       "cut       -0.053491 -0.126232 -0.122181 -0.150647  \n",
       "color     -0.172431 -0.270671 -0.263915 -0.270011  \n",
       "clarity   -0.146789 -0.372865 -0.359015 -0.370250  \n",
       "depthPect -0.010729 -0.025017 -0.029069  0.095023  \n",
       "table      0.127245  0.196097  0.184493  0.152483  \n",
       "price      1.000000  0.887231  0.867864  0.868206  \n",
       "length     0.887231  1.000000  0.974918  0.975435  \n",
       "width      0.867864  0.974918  1.000000  0.956744  \n",
       "depth      0.868206  0.975435  0.956744  1.000000  "
      ]
     },
     "execution_count": 373,
     "metadata": {},
     "output_type": "execute_result"
    }
   ],
   "source": [
    "DF.corr()"
   ]
  },
  {
   "cell_type": "code",
   "execution_count": 374,
   "metadata": {},
   "outputs": [],
   "source": [
    "#carat seems to be correlated to many other vairables, that makes sense, the larger of the diamond, \n",
    "#the larger its length, width, depth and price.\n",
    "#cut is moderately correlated to the depth Pect and table\n",
    "#color is moderately correlated to length, width and depth\n",
    "#clarity is moderately correlated to length, width and depth\n"
   ]
  },
  {
   "cell_type": "code",
   "execution_count": 375,
   "metadata": {},
   "outputs": [],
   "source": [
    "#Supervised learning\n",
    "#Try to classify the cut, color and clarity "
   ]
  },
  {
   "cell_type": "code",
   "execution_count": 377,
   "metadata": {},
   "outputs": [],
   "source": [
    "#cut\n",
    "cut_x=DF[['carat','color','clarity','depthPect','table','price','length','width','depth']]\n",
    "cut_y=DF['cut']\n",
    "cut_x=np.array(cut_x)\n",
    "cut_y=np.array(cut_y)"
   ]
  },
  {
   "cell_type": "code",
   "execution_count": 378,
   "metadata": {},
   "outputs": [],
   "source": [
    "from sklearn import preprocessing #normalization"
   ]
  },
  {
   "cell_type": "code",
   "execution_count": 379,
   "metadata": {},
   "outputs": [],
   "source": [
    "min_max_scaler = preprocessing.MinMaxScaler().fit(cut_x)\n",
    "cut_x = min_max_scaler.transform(cut_x)"
   ]
  },
  {
   "cell_type": "code",
   "execution_count": 380,
   "metadata": {},
   "outputs": [],
   "source": [
    "from sklearn import neighbors #Use Knn as classifier "
   ]
  },
  {
   "cell_type": "code",
   "execution_count": 381,
   "metadata": {},
   "outputs": [
    {
     "name": "stdout",
     "output_type": "stream",
     "text": [
      "(43136, 9)\n",
      "(10784, 9)\n",
      "(43136,)\n",
      "(10784,)\n"
     ]
    }
   ],
   "source": [
    "from sklearn.model_selection import train_test_split #split 20% as testing, 80% as training\n",
    "Xcut_train,Xcut_test, ycut_train, ycut_test = train_test_split(cut_x, cut_y, test_size=0.2, random_state=33)\n",
    "\n",
    "print (Xcut_train.shape)\n",
    "print (Xcut_test.shape)\n",
    "print (ycut_train.shape)\n",
    "print (ycut_test.shape)"
   ]
  },
  {
   "cell_type": "code",
   "execution_count": 382,
   "metadata": {},
   "outputs": [],
   "source": [
    "#find the best K for KNN\n",
    "lstWeight=[]\n",
    "for i in range(1,21):\n",
    "    knnclf = neighbors.KNeighborsClassifier(i, weights='distance')\n",
    "    knnclf.fit(Xcut_train, ycut_train)\n",
    "    knnpreds_test = knnclf.predict(Xcut_test)\n",
    "    lstWeight.append(knnclf.score(Xcut_test, ycut_test))"
   ]
  },
  {
   "cell_type": "code",
   "execution_count": 386,
   "metadata": {},
   "outputs": [
    {
     "name": "stdout",
     "output_type": "stream",
     "text": [
      "0.658290059347181\n"
     ]
    },
    {
     "data": {
      "text/plain": [
       "11"
      ]
     },
     "execution_count": 386,
     "metadata": {},
     "output_type": "execute_result"
    }
   ],
   "source": [
    "print(max(lstWeight))\n",
    "lstWeight.index(max(lstWeight)) #K = 12 can give us the optimal performance of KNN to classify the cut with 65.83%"
   ]
  },
  {
   "cell_type": "code",
   "execution_count": 388,
   "metadata": {
    "scrolled": true
   },
   "outputs": [],
   "source": [
    "#color  do the same thing as above for color classification\n",
    "color_x=DF[['carat','cut','clarity','depthPect','table','price','length','width','depth']]\n",
    "color_y=DF['color']\n",
    "color_x=np.array(color_x)\n",
    "color_y=np.array(color_y)"
   ]
  },
  {
   "cell_type": "code",
   "execution_count": 389,
   "metadata": {},
   "outputs": [],
   "source": [
    "min_max_scaler = preprocessing.MinMaxScaler().fit(color_x)\n",
    "color_x = min_max_scaler.transform(color_x)\n",
    "Xcolor_train,Xcolor_test, ycolor_train, ycolor_test = train_test_split(color_x, color_y, test_size=0.2, random_state=33)\n",
    "lstWeight=[]\n",
    "lstWeight=[]\n",
    "for i in range(1,21):\n",
    "    knnclf = neighbors.KNeighborsClassifier(i, weights='distance')\n",
    "    knnclf.fit(Xcolor_train, ycolor_train)\n",
    "    knnpreds_test = knnclf.predict(Xcolor_test)\n",
    "    lstWeight.append(knnclf.score(Xcolor_test, ycolor_test))"
   ]
  },
  {
   "cell_type": "code",
   "execution_count": 391,
   "metadata": {},
   "outputs": [
    {
     "name": "stdout",
     "output_type": "stream",
     "text": [
      "0.4092173590504451\n"
     ]
    },
    {
     "data": {
      "text/plain": [
       "6"
      ]
     },
     "execution_count": 391,
     "metadata": {},
     "output_type": "execute_result"
    }
   ],
   "source": [
    "print(max(lstWeight))\n",
    "lstWeight.index(max(lstWeight))    #K = 7 can give us the optimal performance of KNN to classify the color with 40.92%, which is not good enough"
   ]
  },
  {
   "cell_type": "code",
   "execution_count": 396,
   "metadata": {},
   "outputs": [],
   "source": [
    "#clarity do the same thing as above for calarity classification\n",
    "clarity_x=DF[['carat','cut','color','depthPect','table','price','length','width','depth']]\n",
    "clarity_y=DF['clarity']\n",
    "clarity_x=np.array(clarity_x)\n",
    "clarity_y=np.array(clarity_y)\n",
    "min_max_scaler = preprocessing.MinMaxScaler().fit(clarity_x)\n",
    "clarity_x = min_max_scaler.transform(clarity_x)\n",
    "Xclarity_train,Xclarity_test, yclarity_train, yclarity_test = train_test_split(clarity_x, clarity_y, test_size=0.2, random_state=33)\n",
    "lstWeight=[]\n",
    "lstWeight=[]\n",
    "for i in range(1,21):\n",
    "    knnclf = neighbors.KNeighborsClassifier(i, weights='distance')\n",
    "    knnclf.fit(Xclarity_train, yclarity_train)\n",
    "    knnpreds_test = knnclf.predict(Xclarity_test)\n",
    "    lstWeight.append(knnclf.score(Xclarity_test, yclarity_test))"
   ]
  },
  {
   "cell_type": "code",
   "execution_count": 398,
   "metadata": {},
   "outputs": [
    {
     "name": "stdout",
     "output_type": "stream",
     "text": [
      "0.5239243323442137\n"
     ]
    },
    {
     "data": {
      "text/plain": [
       "4"
      ]
     },
     "execution_count": 398,
     "metadata": {},
     "output_type": "execute_result"
    }
   ],
   "source": [
    "print(max(lstWeight))\n",
    "lstWeight.index(max(lstWeight)) #K = 9 can give us the optimal performance of KNN to classify clarity with 52.39%, which is pretty good"
   ]
  },
  {
   "cell_type": "code",
   "execution_count": 399,
   "metadata": {},
   "outputs": [],
   "source": [
    "#overall, KNN method can give us acceptable/moderate classifcaiton performance on Cut, color and clarity\n",
    "#but how about Decision tree?"
   ]
  },
  {
   "cell_type": "code",
   "execution_count": 400,
   "metadata": {},
   "outputs": [
    {
     "data": {
      "text/plain": [
       "array([0.57452725, 0.3795661 , 0.28931751, 0.19899852, 0.13649852,\n",
       "       0.14855341, 0.20715875, 0.29970326, 0.53218327, 0.40742115])"
      ]
     },
     "execution_count": 400,
     "metadata": {},
     "output_type": "execute_result"
    }
   ],
   "source": [
    "#cut Decision tree crossvalidation 10\n",
    "from sklearn import tree\n",
    "from sklearn import model_selection\n",
    "treeclf = tree.DecisionTreeClassifier(criterion='entropy',min_samples_split=3)\n",
    "cv_scores = model_selection.cross_val_score(treeclf, cut_x, cut_y, cv=10)\n",
    "cv_scores"
   ]
  },
  {
   "cell_type": "code",
   "execution_count": 401,
   "metadata": {},
   "outputs": [
    {
     "name": "stdout",
     "output_type": "stream",
     "text": [
      "Overall Accuracy on X-Val: 0.32 (+/- 0.29)\n"
     ]
    }
   ],
   "source": [
    "print(\"Overall Accuracy on X-Val: %0.2f (+/- %0.2f)\" % (cv_scores.mean(), cv_scores.std() * 2)) # Overall Accuracy is only 32% which is not good"
   ]
  },
  {
   "cell_type": "code",
   "execution_count": 402,
   "metadata": {},
   "outputs": [
    {
     "name": "stdout",
     "output_type": "stream",
     "text": [
      "Overall Accuracy on X-Val: 0.11 (+/- 0.16)\n"
     ]
    }
   ],
   "source": [
    "#color Decision tree crossvalidation 10\n",
    "treeclf = tree.DecisionTreeClassifier(criterion='entropy')\n",
    "cv_scores = model_selection.cross_val_score(treeclf, color_x, color_y, cv=10)\n",
    "cv_scores\n",
    "print(\"Overall Accuracy on X-Val: %0.2f (+/- %0.2f)\" % (cv_scores.mean(), cv_scores.std() * 2)) #11% overall Accuracy is not good"
   ]
  },
  {
   "cell_type": "code",
   "execution_count": 403,
   "metadata": {},
   "outputs": [
    {
     "name": "stdout",
     "output_type": "stream",
     "text": [
      "Overall Accuracy on X-Val: 0.12 (+/- 0.18)\n"
     ]
    }
   ],
   "source": [
    "#calarity Decision tree crossvalidation 10\n",
    "treeclf = tree.DecisionTreeClassifier(criterion='entropy',min_samples_split=3)\n",
    "cv_scores = model_selection.cross_val_score(treeclf, clarity_x, clarity_y, cv=10)\n",
    "cv_scores\n",
    "print(\"Overall Accuracy on X-Val: %0.2f (+/- %0.2f)\" % (cv_scores.mean(), cv_scores.std() * 2)) #12% overall Accuracy is not good"
   ]
  },
  {
   "cell_type": "code",
   "execution_count": 404,
   "metadata": {},
   "outputs": [],
   "source": [
    "#Decision tree on classifying cut, color and clarity is not good\n",
    "#then How about LDA\n",
    "from sklearn.discriminant_analysis import LinearDiscriminantAnalysis"
   ]
  },
  {
   "cell_type": "code",
   "execution_count": 405,
   "metadata": {},
   "outputs": [
    {
     "name": "stdout",
     "output_type": "stream",
     "text": [
      "[0.62921765 0.61301687 0.61257418 0.60181751 0.61721068 0.56750742\n",
      " 0.55545252 0.55489614 0.60063068 0.61317254]\n",
      "Overall Accuracy on X-Val: 0.60 (+/- 0.05)\n"
     ]
    }
   ],
   "source": [
    "#cut LDA\n",
    "ldclf = LinearDiscriminantAnalysis()\n",
    "cv_scores = model_selection.cross_val_score(ldclf, cut_x, cut_y, cv=10)\n",
    "print(cv_scores)\n",
    "print(\"Overall Accuracy on X-Val: %0.2f (+/- %0.2f)\" % (cv_scores.mean(), cv_scores.std() * 2)) #Overall Accuracy 60% on cut is pretty good"
   ]
  },
  {
   "cell_type": "code",
   "execution_count": 406,
   "metadata": {},
   "outputs": [
    {
     "name": "stdout",
     "output_type": "stream",
     "text": [
      "[0.2300278  0.23229514 0.29718205 0.33722655 0.3264095  0.25723294\n",
      " 0.25018546 0.23242441 0.25463994 0.22902747]\n",
      "Overall Accuracy on X-Val: 0.26 (+/- 0.08)\n"
     ]
    }
   ],
   "source": [
    "#color LDA\n",
    "ldclf = LinearDiscriminantAnalysis()\n",
    "cv_scores = model_selection.cross_val_score(ldclf, color_x, color_y, cv=10)\n",
    "print(cv_scores)\n",
    "print(\"Overall Accuracy on X-Val: %0.2f (+/- %0.2f)\" % (cv_scores.mean(), cv_scores.std() * 2)) #Overall Accuracy 31% on cut is not good"
   ]
  },
  {
   "cell_type": "code",
   "execution_count": 184,
   "metadata": {},
   "outputs": [
    {
     "name": "stdout",
     "output_type": "stream",
     "text": [
      "[0.37386469 0.48378128 0.46227989 0.48146088 0.3722181  0.39788536\n",
      " 0.29313544 0.37810761 0.38801262 0.38819818]\n",
      "Overall Accuracy on X-Val: 0.40 (+/- 0.11)\n"
     ]
    }
   ],
   "source": [
    "#clarity LDA\n",
    "ldclf = LinearDiscriminantAnalysis()\n",
    "cv_scores = model_selection.cross_val_score(ldclf, clarity_x, clarity_y, cv=10)\n",
    "print(cv_scores)\n",
    "print(\"Overall Accuracy on X-Val: %0.2f (+/- %0.2f)\" % (cv_scores.mean(), cv_scores.std() * 2)) #Overall Accuracy 40% on cut is pretty good"
   ]
  },
  {
   "cell_type": "code",
   "execution_count": 407,
   "metadata": {},
   "outputs": [],
   "source": [
    "#Compared the performance of KNN, Decision tree and LDA, KNN is the best supervised method to classify the color, cut and clarity"
   ]
  },
  {
   "cell_type": "code",
   "execution_count": 408,
   "metadata": {},
   "outputs": [],
   "source": [
    "#Unsupervised method Kmeans\n",
    "from sklearn.cluster import KMeans \n",
    "import importlib\n",
    "import kMeans\n",
    "\n",
    "from sklearn.metrics import completeness_score, homogeneity_score"
   ]
  },
  {
   "cell_type": "code",
   "execution_count": 409,
   "metadata": {},
   "outputs": [
    {
     "data": {
      "text/plain": [
       "<module 'kMeans' from 'C:\\\\Users\\\\Hale\\\\Desktop\\\\dsc478\\\\final project\\\\kMeans.py'>"
      ]
     },
     "execution_count": 409,
     "metadata": {},
     "output_type": "execute_result"
    }
   ],
   "source": [
    "importlib.reload(kMeans)"
   ]
  },
  {
   "cell_type": "code",
   "execution_count": 410,
   "metadata": {},
   "outputs": [],
   "source": [
    "#before doing Kmeans clustering, get rid of some not related variables first like Price\n",
    "#cut Kmeans\n",
    "Kmeancut_x=DF[['carat','color','clarity','depthPect','table','length','width','depth']]\n",
    "Kmeancut_y=DF['cut']\n",
    "Kmeancut_x=np.array(Kmeancut_x)\n",
    "Kmeancut_y=np.array(Kmeancut_y)\n",
    "min_max_scaler = preprocessing.MinMaxScaler().fit(Kmeancut_x)\n",
    "Kmeancut_x = min_max_scaler.transform(Kmeancut_x)"
   ]
  },
  {
   "cell_type": "code",
   "execution_count": 411,
   "metadata": {},
   "outputs": [
    {
     "name": "stdout",
     "output_type": "stream",
     "text": [
      "0.015157147795881431\n"
     ]
    }
   ],
   "source": [
    "#cut 5 values\n",
    "centroids, clusters = kMeans.kMeans(Kmeancut_x, 5, kMeans.distEclud, kMeans.randCent)\n",
    "\n",
    "print (completeness_score(Kmeancut_y,clusters[:,0]))"
   ]
  },
  {
   "cell_type": "code",
   "execution_count": 412,
   "metadata": {},
   "outputs": [
    {
     "name": "stdout",
     "output_type": "stream",
     "text": [
      "0.014826399985036364\n"
     ]
    }
   ],
   "source": [
    "print (homogeneity_score(Kmeancut_y,clusters[:,0]))"
   ]
  },
  {
   "cell_type": "code",
   "execution_count": 413,
   "metadata": {},
   "outputs": [
    {
     "name": "stdout",
     "output_type": "stream",
     "text": [
      "0.024274230929518942\n",
      "0.020522676509247717\n"
     ]
    }
   ],
   "source": [
    "#color Kmeans 7 classess\n",
    "Kmeancolor_x=DF[['carat','cut','clarity','depthPect','table','length','width','depth']]\n",
    "Kmeancolor_y=DF['color']\n",
    "Kmeancolor_x=np.array(Kmeancolor_x)\n",
    "Kmeancolor_y=np.array(Kmeancolor_y)\n",
    "min_max_scaler = preprocessing.MinMaxScaler().fit(Kmeancolor_x)\n",
    "Kmeancolor_x = min_max_scaler.transform(Kmeancolor_x)\n",
    "centroids, clusters = kMeans.kMeans(Kmeancolor_x, 7, kMeans.distEclud, kMeans.randCent)\n",
    "\n",
    "print (completeness_score(Kmeancolor_y,clusters[:,0]))\n",
    "print (homogeneity_score(Kmeancolor_y,clusters[:,0]))"
   ]
  },
  {
   "cell_type": "code",
   "execution_count": 414,
   "metadata": {},
   "outputs": [
    {
     "name": "stdout",
     "output_type": "stream",
     "text": [
      "0.027803504383363112\n",
      "0.02381579986323319\n"
     ]
    }
   ],
   "source": [
    "#clarity Kmeans 8 classes\n",
    "Kmeanclarity_x=DF[['carat','cut','color','depthPect','table','length','width','depth']]\n",
    "Kmeanclarity_y=DF['clarity']\n",
    "Kmeanclarity_x=np.array(Kmeanclarity_x)\n",
    "Kmeanclarity_y=np.array(Kmeanclarity_y)\n",
    "min_max_scaler = preprocessing.MinMaxScaler().fit(Kmeanclarity_x)\n",
    "Kmeanclarity_x = min_max_scaler.transform(Kmeanclarity_x)\n",
    "centroids, clusters = kMeans.kMeans(Kmeanclarity_x, 8, kMeans.distEclud, kMeans.randCent)\n",
    "\n",
    "print (completeness_score(Kmeanclarity_y,clusters[:,0]))\n",
    "print (homogeneity_score(Kmeanclarity_y,clusters[:,0]))"
   ]
  },
  {
   "cell_type": "code",
   "execution_count": 211,
   "metadata": {},
   "outputs": [],
   "source": [
    "#Regression Model to Predict the Price"
   ]
  },
  {
   "cell_type": "code",
   "execution_count": 415,
   "metadata": {},
   "outputs": [
    {
     "data": {
      "text/plain": [
       "Index(['carat', 'cut', 'color', 'clarity', 'depthPect', 'table', 'price',\n",
       "       'length', 'width', 'depth'],\n",
       "      dtype='object')"
      ]
     },
     "execution_count": 415,
     "metadata": {},
     "output_type": "execute_result"
    }
   ],
   "source": [
    "DF.columns"
   ]
  },
  {
   "cell_type": "code",
   "execution_count": 416,
   "metadata": {},
   "outputs": [],
   "source": [
    "#regression for 'Price'"
   ]
  },
  {
   "cell_type": "code",
   "execution_count": 417,
   "metadata": {},
   "outputs": [],
   "source": [
    "X = DF[['carat', 'cut', 'color', 'clarity', 'depthPect', 'table',\n",
    "       'length', 'width', 'depth']]"
   ]
  },
  {
   "cell_type": "code",
   "execution_count": 418,
   "metadata": {},
   "outputs": [],
   "source": [
    "y=DF['price']"
   ]
  },
  {
   "cell_type": "code",
   "execution_count": 419,
   "metadata": {},
   "outputs": [],
   "source": [
    "X = np.array(X)\n",
    "y= np.array(y)"
   ]
  },
  {
   "cell_type": "code",
   "execution_count": 420,
   "metadata": {},
   "outputs": [
    {
     "name": "stdout",
     "output_type": "stream",
     "text": [
      "(10784, 9)\n",
      "(43136, 9)\n",
      "(43136,)\n",
      "(10784,)\n"
     ]
    }
   ],
   "source": [
    "X_train, X_test, y_train, y_test = train_test_split(X, y, test_size=0.2, random_state=33)\n",
    "\n",
    "print (X_test.shape)\n",
    "print (X_train.shape)\n",
    "print (y_train.shape)\n",
    "print (y_test.shape)"
   ]
  },
  {
   "cell_type": "code",
   "execution_count": 421,
   "metadata": {},
   "outputs": [],
   "source": [
    "from sklearn.linear_model import LinearRegression, Lasso, Ridge, ElasticNet"
   ]
  },
  {
   "cell_type": "code",
   "execution_count": 422,
   "metadata": {},
   "outputs": [
    {
     "data": {
      "text/plain": [
       "LinearRegression(copy_X=True, fit_intercept=True, n_jobs=None,\n",
       "         normalize=False)"
      ]
     },
     "execution_count": 422,
     "metadata": {},
     "output_type": "execute_result"
    }
   ],
   "source": [
    "linreg = LinearRegression()\n",
    "linreg.fit(X_train,y_train)"
   ]
  },
  {
   "cell_type": "code",
   "execution_count": 423,
   "metadata": {},
   "outputs": [
    {
     "name": "stdout",
     "output_type": "stream",
     "text": [
      "1201.831919029932\n"
     ]
    }
   ],
   "source": [
    "\n",
    "# Compute RMSE on training data\n",
    "p = linreg.predict(X_train)\n",
    "\n",
    "# Now we can constuct a vector of errors\n",
    "err = abs(p-y_train)\n",
    "total_error = np.dot(err,err)\n",
    "\n",
    "# Compute RMSE\n",
    "rmse_train = np.sqrt(total_error/len(p))\n",
    "print(rmse_train)"
   ]
  },
  {
   "cell_type": "code",
   "execution_count": 424,
   "metadata": {},
   "outputs": [
    {
     "name": "stdout",
     "output_type": "stream",
     "text": [
      "Regression Coefficients: \n",
      " [10976.44784555   122.3326683    320.84578343   494.98887833\n",
      "   -80.08777516   -26.00650268  -939.514467      39.8175227\n",
      "   -88.29307445]\n"
     ]
    }
   ],
   "source": [
    "print ('Regression Coefficients: \\n', linreg.coef_)"
   ]
  },
  {
   "cell_type": "code",
   "execution_count": 425,
   "metadata": {},
   "outputs": [],
   "source": [
    "from sklearn.model_selection import KFold"
   ]
  },
  {
   "cell_type": "code",
   "execution_count": 426,
   "metadata": {},
   "outputs": [
    {
     "name": "stdout",
     "output_type": "stream",
     "text": [
      "KFold(n_splits=10, random_state=None, shuffle=False)\n"
     ]
    }
   ],
   "source": [
    "\n",
    "# Now let's compute RMSE using 10-fold x-validation\n",
    "n = 10\n",
    "#kf = KFold(len(x),n_splits=n)\n",
    "\n",
    "kf = KFold(n_splits=n)\n",
    "kf.get_n_splits(X)\n",
    "\n",
    "print(kf)  \n",
    "KFold(n_splits=n,random_state=None, shuffle=False)\n",
    " \n",
    "\n",
    "xval_err = 0\n",
    "#or train,test in kf:\n",
    "for train, test in kf.split(X):\n",
    "    linreg.fit(X[train],y[train])\n",
    "    p = linreg.predict(X[test])\n",
    "    e = p-y[test]\n",
    "    xval_err += np.sqrt(np.dot(e,e)/len(X[test]))\n",
    "       \n",
    "rmse_10cv = xval_err/n"
   ]
  },
  {
   "cell_type": "code",
   "execution_count": 427,
   "metadata": {},
   "outputs": [
    {
     "name": "stdout",
     "output_type": "stream",
     "text": [
      "Method: Simple Linear Regression\n",
      "RMSE on training: 1201.8319\n",
      "RMSE on 10-fold CV: 1214.0642\n"
     ]
    }
   ],
   "source": [
    "method_name = 'Simple Linear Regression'\n",
    "print('Method: %s' %method_name)\n",
    "print('RMSE on training: %.4f' %rmse_train)\n",
    "print('RMSE on 10-fold CV: %.4f' %rmse_10cv)"
   ]
  },
  {
   "cell_type": "code",
   "execution_count": 428,
   "metadata": {},
   "outputs": [],
   "source": [
    "#RMSE  on 10-fold CV is slightly higher than that on training\n",
    "#Lets see if regularized method will improve the performance"
   ]
  },
  {
   "cell_type": "code",
   "execution_count": 429,
   "metadata": {},
   "outputs": [
    {
     "name": "stdout",
     "output_type": "stream",
     "text": [
      "1 0.8508168367622053\n",
      "6 0.8508168367622053\n",
      "11 0.8508168367622053\n",
      "16 0.8553886020755034\n",
      "21 0.8553886020755034\n",
      "26 0.850679240324166\n",
      "31 0.850679240324166\n",
      "36 0.850679240324166\n",
      "41 0.8488545031883368\n",
      "46 0.8488545031883368\n",
      "51 0.8604834922579645\n",
      "56 0.8604834922579645\n",
      "61 0.8604834922579645\n",
      "66 0.9032323667399039\n",
      "71 0.9032323667399039\n",
      "76 0.902065841301624\n",
      "81 0.902065841301624\n",
      "86 0.902065841301624\n",
      "91 0.9047001319412089\n",
      "96 0.9047001319412089\n",
      "18\n",
      "Optimal percentile of features:91 \n",
      "\n",
      "Optimal number of features:8 \n",
      "\n"
     ]
    }
   ],
   "source": [
    "features = DF[['carat','color','clarity','depthPect','table','price','length','width','depth']]\n",
    "target = DF['price']\n",
    "X_train, X_test, y_train, y_test = train_test_split(features, target, test_size=0.2, random_state=33)\n",
    "from sklearn import feature_selection\n",
    "from sklearn import model_selection\n",
    "linreg = LinearRegression()\n",
    "\n",
    "percentiles = range(1, 100, 5)\n",
    "results = []\n",
    "for i in range(1, 100, 5):\n",
    "    fs = feature_selection.SelectPercentile(feature_selection.f_regression, percentile=i)\n",
    "    X_train_fs = fs.fit_transform(X_train, y_train)\n",
    "    scores = model_selection.cross_val_score(linreg, X_train_fs, y_train, cv=5)\n",
    "    print (i,scores.mean())\n",
    "    results = np.append(results, scores.mean())\n",
    "\n",
    "optimal_percentile = np.where(results == results.max())[0]\n",
    "print(optimal_percentile[0])\n",
    "print (\"Optimal percentile of features:{0}\".format(percentiles[optimal_percentile[0]]), \"\\n\")\n",
    "optimal_num_features = int(percentiles[optimal_percentile[0]]*len(features.columns)/100)\n",
    "print (\"Optimal number of features:{0}\".format(optimal_num_features), \"\\n\")\n",
    "\n"
   ]
  },
  {
   "cell_type": "code",
   "execution_count": 430,
   "metadata": {},
   "outputs": [
    {
     "name": "stdout",
     "output_type": "stream",
     "text": [
      "carat \t 246169.8073494757\n",
      "color \t 1423.4716354083816\n",
      "clarity \t 978.6033915337107\n",
      "depthPect \t 7.118562768719305\n",
      "table \t 720.7642730499787\n",
      "length \t 160432.5819277144\n",
      "width \t 126146.7580059612\n",
      "depth \t 128506.35247289916\n"
     ]
    }
   ],
   "source": [
    "fs = feature_selection.SelectPercentile(feature_selection.f_regression, percentile=91) #we got opitmal percentile is 91 above\n",
    "X_train_fs = fs.fit_transform(X_train, y_train)\n",
    "\n",
    "for i in range(len(features.columns.values)):\n",
    "    if fs.get_support()[i]:\n",
    "        print (features.columns.values[i],'\\t', fs.scores_[i])"
   ]
  },
  {
   "cell_type": "code",
   "execution_count": 431,
   "metadata": {},
   "outputs": [],
   "source": [
    "#the best model is without Depth Percentage variable"
   ]
  },
  {
   "cell_type": "code",
   "execution_count": 432,
   "metadata": {},
   "outputs": [
    {
     "name": "stdout",
     "output_type": "stream",
     "text": [
      "KFold(n_splits=10, random_state=None, shuffle=False)\n",
      "Method: Simple Linear Regression\n",
      "RMSE on training: 1204.9955\n",
      "RMSE on 10-fold CV: 1224.6207\n"
     ]
    }
   ],
   "source": [
    "#use the selected model above for linear regression and see if there is improvement\n",
    "X = DF[['carat', 'cut', 'color', 'clarity','table',\n",
    "       'length', 'width', 'depth']]\n",
    "y=DF['price']\n",
    "X = np.array(X)\n",
    "y= np.array(y)\n",
    "X_train, X_test, y_train, y_test = train_test_split(X, y, test_size=0.2, random_state=33)\n",
    "linreg = LinearRegression()\n",
    "linreg.fit(X_train,y_train)\n",
    "p = linreg.predict(X_train)\n",
    "err = abs(p-y_train)\n",
    "total_error = np.dot(err,err)\n",
    "rmse_train = np.sqrt(total_error/len(p))\n",
    "# Now let's compute RMSE using 10-fold x-validation\n",
    "n = 10\n",
    "#kf = KFold(len(x),n_splits=n)\n",
    "\n",
    "kf = KFold(n_splits=n)\n",
    "kf.get_n_splits(X)\n",
    "\n",
    "print(kf)  \n",
    "KFold(n_splits=n,random_state=None, shuffle=False)\n",
    " \n",
    "\n",
    "xval_err = 0\n",
    "#or train,test in kf:\n",
    "for train, test in kf.split(X):\n",
    "    linreg.fit(X[train],y[train])\n",
    "    p = linreg.predict(X[test])\n",
    "    e = p-y[test]\n",
    "    xval_err += np.sqrt(np.dot(e,e)/len(X[test]))\n",
    "       \n",
    "rmse_10cv = xval_err/n\n",
    "method_name = 'Simple Linear Regression'\n",
    "print('Method: %s' %method_name)\n",
    "print('RMSE on training: %.4f' %rmse_train)\n",
    "print('RMSE on 10-fold CV: %.4f' %rmse_10cv)"
   ]
  },
  {
   "cell_type": "code",
   "execution_count": 433,
   "metadata": {},
   "outputs": [],
   "source": [
    "#Ridge regression for price"
   ]
  },
  {
   "cell_type": "code",
   "execution_count": 434,
   "metadata": {},
   "outputs": [],
   "source": [
    "def Ridgeparameter(data,target):\n",
    "\n",
    "    print('Ridge Regression')\n",
    "    print('alpha\\t RMSE_train\\t RMSE_10cv\\n')\n",
    "    alpha = np.linspace(.01,20,50)\n",
    "    t_rmse = np.array([])\n",
    "    cv_rmse = np.array([])\n",
    "    X = np.array(data)\n",
    "    y = np.array(target)\n",
    "    from sklearn.model_selection import train_test_split\n",
    "    X_train, X_test, y_train, y_test = train_test_split(X, y, test_size=0.2, random_state=33)\n",
    "\n",
    "    for a in alpha:\n",
    "        ridge = Ridge(alpha=a)\n",
    "\n",
    "        # computing the RMSE on training data\n",
    "        ridge.fit(X_train,y_train)\n",
    "        p = ridge.predict(X_train)\n",
    "        err = p-y_train\n",
    "        total_error = np.dot(err,err)\n",
    "        rmse_train = np.sqrt(total_error/len(p))\n",
    "\n",
    "\n",
    "\n",
    "        kf = KFold(n_splits=5)\n",
    "        kf.get_n_splits(X_train)\n",
    "\n",
    "        KFold(n_splits=5,random_state=None, shuffle=False)\n",
    "        # computing RMSE using 10-fold cross validation\n",
    "        #kf = KFold(len(x), n_folds=10)\n",
    "        xval_err = 0\n",
    "        for train, test in kf.split(X_train):\n",
    "            ridge.fit(X_train[train], y_train[train])\n",
    "            p = ridge.predict(X_train[test])\n",
    "            err = p - y_train[test]\n",
    "            xval_err += np.sqrt(np.dot(err,err)/len(X_train[test]))\n",
    "        rmse_10cv = xval_err/n\n",
    "    \n",
    "        t_rmse = np.append(t_rmse, [rmse_train])\n",
    "        cv_rmse = np.append(cv_rmse, [rmse_10cv])\n",
    "        print('{}\\t {}\\t\\t {}'.format(a,rmse_train,rmse_10cv))\n",
    "    plt.plot(alpha, t_rmse, label='RMSE-Train')\n",
    "    plt.plot(alpha, cv_rmse, label='RMSE_XVal')\n",
    "    plt.legend( ('RMSE-Train', 'RMSE_XVal') )\n",
    "    plt.ylabel('RMSE')\n",
    "    plt.xlabel('Alpha')\n",
    "    plt.show()"
   ]
  },
  {
   "cell_type": "code",
   "execution_count": 435,
   "metadata": {},
   "outputs": [],
   "source": [
    "features = DF[['carat','color','clarity','depthPect','table','price','length','width','depth']]\n",
    "target = DF['price']"
   ]
  },
  {
   "cell_type": "code",
   "execution_count": 436,
   "metadata": {},
   "outputs": [
    {
     "name": "stdout",
     "output_type": "stream",
     "text": [
      "Ridge Regression\n",
      "alpha\t RMSE_train\t RMSE_10cv\n",
      "\n",
      "0.01\t 5.445487018997123e-10\t\t 6.079122938078849e-10\n",
      "0.41795918367346935\t 7.726691612025151e-09\t\t 5.075641499211472e-09\n",
      "0.8259183673469387\t 1.553774648437802e-08\t\t 9.984889437699538e-09\n",
      "1.233877551020408\t 2.3337707069729942e-08\t\t 1.491060844153268e-08\n",
      "1.6418367346938774\t 3.113151033030782e-08\t\t 1.9837745444944998e-08\n",
      "2.0497959183673466\t 3.8909790535417826e-08\t\t 2.4757099310714892e-08\n",
      "2.457755102040816\t 4.66776461184626e-08\t\t 2.966102426198768e-08\n",
      "2.865714285714285\t 5.4434110116802904e-08\t\t 3.455380979357915e-08\n",
      "3.2736734693877545\t 6.218022730810994e-08\t\t 3.944419358400605e-08\n",
      "3.681632653061224\t 6.991618615829979e-08\t\t 4.431140436323306e-08\n",
      "4.0895918367346935\t 7.763588014713077e-08\t\t 4.918143624776849e-08\n",
      "4.497551020408163\t 8.534567382614431e-08\t\t 5.403361094359573e-08\n",
      "4.905510204081632\t 9.304498277689455e-08\t\t 5.887314697371321e-08\n",
      "5.313469387755101\t 1.0073281924721304e-07\t\t 6.370677839645026e-08\n",
      "5.721428571428571\t 1.0840906694225209e-07\t\t 6.852703251666214e-08\n",
      "6.12938775510204\t 1.1607460504848758e-07\t\t 7.333530298028216e-08\n",
      "6.537346938775509\t 1.2372878009490494e-07\t\t 7.81361402911646e-08\n",
      "6.9453061224489785\t 1.3137364756500656e-07\t\t 8.292967214518281e-08\n",
      "7.353265306122448\t 1.3900617305707767e-07\t\t 8.770532128130332e-08\n",
      "7.761224489795917\t 1.4662426287024602e-07\t\t 9.247910059383819e-08\n",
      "8.169183673469387\t 1.5423763913724543e-07\t\t 9.724080087397681e-08\n",
      "8.577142857142857\t 1.6183764580737585e-07\t\t 1.0199195318178046e-07\n",
      "8.985102040816326\t 1.6942392264756138e-07\t\t 1.0673600419454948e-07\n",
      "9.393061224489795\t 1.7700523397382673e-07\t\t 1.114720784829001e-07\n",
      "9.801020408163264\t 1.845697273834801e-07\t\t 1.1619569389471954e-07\n",
      "10.208979591836734\t 1.9213056361930437e-07\t\t 1.209097255788577e-07\n",
      "10.616938775510203\t 1.996751124739833e-07\t\t 1.2561813684811937e-07\n",
      "11.024897959183672\t 2.0721123169711784e-07\t\t 1.3031334233264446e-07\n",
      "11.432857142857141\t 2.1474025954267592e-07\t\t 1.3500157147500987e-07\n",
      "11.84081632653061\t 2.2225735963068237e-07\t\t 1.3968556034797796e-07\n",
      "12.24877551020408\t 2.2976082206486978e-07\t\t 1.4435576689133219e-07\n",
      "12.65673469387755\t 2.3725988847650226e-07\t\t 1.490211762908349e-07\n",
      "13.064693877551019\t 2.44744413259647e-07\t\t 1.5367259775228596e-07\n",
      "13.472653061224488\t 2.5222074655941526e-07\t\t 1.5832507037586333e-07\n",
      "13.880612244897957\t 2.59690360388312e-07\t\t 1.6296417025548434e-07\n",
      "14.288571428571426\t 2.671446776968716e-07\t\t 1.6759282321878126e-07\n",
      "14.696530612244896\t 2.7459216104262966e-07\t\t 1.722183003498197e-07\n",
      "15.104489795918365\t 2.8203031320472587e-07\t\t 1.7683289232214543e-07\n",
      "15.512448979591834\t 2.894605461610865e-07\t\t 1.8144048146491943e-07\n",
      "15.920408163265304\t 2.968796089566651e-07\t\t 1.8604233673190496e-07\n",
      "16.328367346938776\t 3.04288736895375e-07\t\t 1.90632901672432e-07\n",
      "16.736326530612246\t 3.11690225526304e-07\t\t 1.9521905762080328e-07\n",
      "17.144285714285715\t 3.1908014584743324e-07\t\t 1.9979861575855486e-07\n",
      "17.552244897959184\t 3.2646252276264286e-07\t\t 2.0436945158718208e-07\n",
      "17.960204081632654\t 3.338322233701723e-07\t\t 2.0893192676374068e-07\n",
      "18.368163265306123\t 3.411959367552946e-07\t\t 2.13486628023901e-07\n",
      "18.776122448979592\t 3.4855023593490874e-07\t\t 2.1803524822746062e-07\n",
      "19.18408163265306\t 3.5589880005136174e-07\t\t 2.2257822147997549e-07\n",
      "19.59204081632653\t 3.6323243745567684e-07\t\t 2.271152877141972e-07\n",
      "20.0\t 3.705652251697196e-07\t\t 2.3164181399908737e-07\n"
     ]
    },
    {
     "data": {
      "image/png": "[encoded data removed]",
      "text/plain": [
       "<Figure size 432x288 with 1 Axes>"
      ]
     },
     "metadata": {
      "needs_background": "light"
     },
     "output_type": "display_data"
    }
   ],
   "source": [
    "Ridgeparameter(features,target)"
   ]
  },
  {
   "cell_type": "code",
   "execution_count": 462,
   "metadata": {},
   "outputs": [
    {
     "name": "stdout",
     "output_type": "stream",
     "text": [
      "RMSE on train data aside 1205.021385404552\n",
      "RMSE on test data aside 1267.3877557493242\n"
     ]
    }
   ],
   "source": [
    "#seems alpha = 0.01 works the best in this case\n",
    "ridge = Ridge(alpha=3)\n",
    "ridge.fit(X_train,y_train)\n",
    "p = ridge.predict(X_train)\n",
    "err = p-y_train\n",
    "total_error = np.dot(err,err)\n",
    "rmse_train = np.sqrt(total_error/len(p))\n",
    "\n",
    "p = ridge.predict(X_test)\n",
    "err = p-y_test\n",
    "total_error = np.dot(err,err)\n",
    "rmse_test = np.sqrt(total_error/len(p))\n",
    "print (\"RMSE on train data aside {}\".format(rmse_train))\n",
    "print (\"RMSE on test data aside {}\".format(rmse_test))"
   ]
  },
  {
   "cell_type": "code",
   "execution_count": 438,
   "metadata": {},
   "outputs": [],
   "source": [
    "#Lasso\n",
    "def Lassoparameter(data,target):\n",
    "\n",
    "    print('Lasso Regression')\n",
    "    print('alpha\\t RMSE_train\\t RMSE_10cv\\n')\n",
    "    alpha = np.linspace(.01,50,50)\n",
    "    t_rmse = np.array([])\n",
    "    cv_rmse = np.array([])\n",
    "    X = np.array(data)\n",
    "    y = np.array(target)\n",
    "    from sklearn.model_selection import train_test_split\n",
    "    X_train, X_test, y_train, y_test = train_test_split(X, y, test_size=0.2, random_state=33)\n",
    "\n",
    "    for a in alpha:\n",
    "        lasso = Lasso(alpha=a)\n",
    "\n",
    "        # computing the RMSE on training data\n",
    "        lasso.fit(X_train,y_train)\n",
    "        p = lasso.predict(X_train)\n",
    "        err = p-y_train\n",
    "        total_error = np.dot(err,err)\n",
    "        rmse_train = np.sqrt(total_error/len(p))\n",
    "\n",
    "\n",
    "\n",
    "        kf = KFold(n_splits=5)\n",
    "        kf.get_n_splits(X_train)\n",
    "\n",
    "        KFold(n_splits=5,random_state=None, shuffle=False)\n",
    "        # computing RMSE using 10-fold cross validation\n",
    "        #kf = KFold(len(x), n_folds=10)\n",
    "        xval_err = 0\n",
    "        for train, test in kf.split(X_train):\n",
    "            lasso.fit(X_train[train], y_train[train])\n",
    "            p = lasso.predict(X_train[test])\n",
    "            err = p - y_train[test]\n",
    "            xval_err += np.sqrt(np.dot(err,err)/len(X_train[test]))\n",
    "        rmse_10cv = xval_err/n\n",
    "    \n",
    "        t_rmse = np.append(t_rmse, [rmse_train])\n",
    "        cv_rmse = np.append(cv_rmse, [rmse_10cv])\n",
    "        print('{:.3f}\\t {:.4f}\\t\\t {:.4f}'.format(a,rmse_train,rmse_10cv))\n",
    "    plt.plot(alpha, t_rmse, label='RMSE-Train')\n",
    "    plt.plot(alpha, cv_rmse, label='RMSE_XVal')\n",
    "    plt.legend( ('RMSE-Train', 'RMSE_XVal') )\n",
    "    plt.ylabel('RMSE')\n",
    "    plt.xlabel('Alpha')\n",
    "    plt.show()\n",
    "    "
   ]
  },
  {
   "cell_type": "code",
   "execution_count": 439,
   "metadata": {},
   "outputs": [
    {
     "name": "stdout",
     "output_type": "stream",
     "text": [
      "Lasso Regression\n",
      "alpha\t RMSE_train\t RMSE_10cv\n",
      "\n",
      "0.010\t 0.0000\t\t 0.0000\n",
      "1.030\t 0.0003\t\t 0.0001\n",
      "2.050\t 0.0005\t\t 0.0003\n",
      "3.071\t 0.0008\t\t 0.0004\n",
      "4.091\t 0.0010\t\t 0.0005\n",
      "5.111\t 0.0013\t\t 0.0006\n",
      "6.131\t 0.0015\t\t 0.0008\n",
      "7.151\t 0.0018\t\t 0.0009\n",
      "8.172\t 0.0021\t\t 0.0010\n",
      "9.192\t 0.0023\t\t 0.0012\n",
      "10.212\t 0.0026\t\t 0.0013\n",
      "11.232\t 0.0028\t\t 0.0014\n",
      "12.252\t 0.0031\t\t 0.0015\n",
      "13.273\t 0.0033\t\t 0.0017\n",
      "14.293\t 0.0036\t\t 0.0018\n",
      "15.313\t 0.0039\t\t 0.0019\n",
      "16.333\t 0.0041\t\t 0.0021\n",
      "17.353\t 0.0044\t\t 0.0022\n",
      "18.374\t 0.0046\t\t 0.0023\n",
      "19.394\t 0.0049\t\t 0.0024\n",
      "20.414\t 0.0051\t\t 0.0026\n",
      "21.434\t 0.0054\t\t 0.0027\n",
      "22.454\t 0.0057\t\t 0.0028\n",
      "23.475\t 0.0059\t\t 0.0030\n",
      "24.495\t 0.0062\t\t 0.0031\n",
      "25.515\t 0.0064\t\t 0.0032\n",
      "26.535\t 0.0067\t\t 0.0033\n",
      "27.556\t 0.0069\t\t 0.0035\n",
      "28.576\t 0.0072\t\t 0.0036\n",
      "29.596\t 0.0074\t\t 0.0037\n",
      "30.616\t 0.0077\t\t 0.0039\n",
      "31.636\t 0.0080\t\t 0.0040\n",
      "32.657\t 0.0082\t\t 0.0041\n",
      "33.677\t 0.0085\t\t 0.0042\n",
      "34.697\t 0.0087\t\t 0.0044\n",
      "35.717\t 0.0090\t\t 0.0045\n",
      "36.737\t 0.0092\t\t 0.0046\n",
      "37.758\t 0.0095\t\t 0.0048\n",
      "38.778\t 0.0098\t\t 0.0049\n",
      "39.798\t 0.0100\t\t 0.0050\n",
      "40.818\t 0.0103\t\t 0.0051\n",
      "41.838\t 0.0105\t\t 0.0053\n",
      "42.859\t 0.0108\t\t 0.0054\n",
      "43.879\t 0.0110\t\t 0.0055\n",
      "44.899\t 0.0113\t\t 0.0057\n",
      "45.919\t 0.0116\t\t 0.0058\n",
      "46.939\t 0.0118\t\t 0.0059\n",
      "47.960\t 0.0121\t\t 0.0060\n",
      "48.980\t 0.0123\t\t 0.0062\n",
      "50.000\t 0.0126\t\t 0.0063\n"
     ]
    },
    {
     "data": {
      "image/png": "[encoded data removed]",
      "text/plain": [
       "<Figure size 432x288 with 1 Axes>"
      ]
     },
     "metadata": {
      "needs_background": "light"
     },
     "output_type": "display_data"
    }
   ],
   "source": [
    "Lassoparameter(features,target)"
   ]
  },
  {
   "cell_type": "code",
   "execution_count": 473,
   "metadata": {},
   "outputs": [
    {
     "name": "stdout",
     "output_type": "stream",
     "text": [
      "RMSE on train data aside 1204.9955481680481\n",
      "RMSE on test data aside 1267.4121534852347\n"
     ]
    }
   ],
   "source": [
    "\n",
    "lasso = Lasso(alpha=0.01)\n",
    "lasso.fit(X_train,y_train)\n",
    "p = lasso.predict(X_train)\n",
    "err = p-y_train\n",
    "total_error = np.dot(err,err)\n",
    "rmse_train = np.sqrt(total_error/len(p))\n",
    "p = lasso.predict(X_test)\n",
    "err = p-y_test\n",
    "total_error = np.dot(err,err)\n",
    "rmse_test = np.sqrt(total_error/len(p))\n",
    "print (\"RMSE on train data aside {}\".format(rmse_train))\n",
    "print (\"RMSE on test data aside {}\".format(rmse_test))"
   ]
  },
  {
   "cell_type": "code",
   "execution_count": null,
   "metadata": {},
   "outputs": [],
   "source": []
  }
 ],
 "metadata": {
  "kernelspec": {
   "display_name": "Python 3",
   "language": "python",
   "name": "python3"
  },
  "language_info": {
   "codemirror_mode": {
    "name": "ipython",
    "version": 3
   },
   "file_extension": ".py",
   "mimetype": "text/x-python",
   "name": "python",
   "nbconvert_exporter": "python",
   "pygments_lexer": "ipython3",
   "version": "3.8.5"
  }
 },
 "nbformat": 4,
 "nbformat_minor": 2
}
